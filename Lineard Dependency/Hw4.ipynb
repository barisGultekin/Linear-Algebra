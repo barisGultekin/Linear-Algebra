{
 "cells": [
  {
   "cell_type": "code",
   "execution_count": 78,
   "metadata": {},
   "outputs": [],
   "source": [
    "def MatrixDim(A): \n",
    "    M265rows = len(A)       \n",
    "    M265cols = len(A[0])\n",
    "    return [M265rows, M265cols]  \n",
    "\n",
    "def nPrint(A):\n",
    "    for i in range(len(A)):\n",
    "        print(A[i])\n",
    "    return True\n",
    "\n",
    "def MatrixMult(A,B):    \n",
    "    M265Result = []   \n",
    "\n",
    "    RowDimA = MatrixDim(A)[0]\n",
    "    CollumnDimA = MatrixDim(A)[1]\n",
    "    RowDimB = MatrixDim(B)[0]\n",
    "    CollumnDimB = MatrixDim(B)[1]\n",
    "    \n",
    "    if RowDimA != CollumnDimB or CollumnDimA != RowDimB:\n",
    "        print(\"You can't do that\")\n",
    "    elif RowDimA == CollumnDimB and CollumnDimA == RowDimB:\n",
    "        for i in range(RowDimA):\n",
    "            M265Result.append([])\n",
    "            for j in range(CollumnDimB):\n",
    "                sum = 0\n",
    "                for k in range(RowDimB):\n",
    "                    sum += A[i][k] * B[k][j]\n",
    "                M265Result[i].append(sum)\n",
    "\n",
    "    return M265Result \n",
    "\n",
    "def M265isEchelon(A):\n",
    "    M265_isEcheclon = False\n",
    "    [rowsA,colsA]=MatrixDim(A)\n",
    "    leading = [colsA+1+rw for rw in range(rowsA)]\n",
    "    for rw in range(rowsA):\n",
    "        for cl in range(colsA):\n",
    "            if (A[rw][cl] != 0):\n",
    "                leading[rw] = cl\n",
    "                break\n",
    "    M265_isEchelon = True\n",
    "    for rw in range(rowsA-1):\n",
    "        if (leading[rw] >= leading[rw+1]):\n",
    "            M265_isEchelon = False\n",
    "    return M265_isEchelon\n",
    "\n",
    "def M265isREch(A):\n",
    "    [rowsA,colsA] = MatrixDim(A)\n",
    "    leading = [colsA+1+rw for rw in range(rowsA)]\n",
    "    posLeading = []\n",
    "    for rw in range(rowsA):\n",
    "        for cl in range(colsA):\n",
    "            if (A[rw][cl] != 0):\n",
    "                leading[rw] = cl\n",
    "                if (A[rw][cl]!=1):\n",
    "                    return [-1]\n",
    "                posLeading.append(cl)\n",
    "                break\n",
    "    M265_isEchelon = True\n",
    "    for rw in range(rowsA-1):\n",
    "        if (leading[rw] >= leading[rw+1]):\n",
    "            M265_isEchelon = False\n",
    "    if (not M265_isEchelon):\n",
    "        return [-2]\n",
    "    for i in range(len(posLeading)):\n",
    "        for rw in range(rowsA):\n",
    "            if ((rw != i) and (A[rw][posLeading[i]]!=0)):\n",
    "                return [-3]\n",
    "    return posLeading\n",
    "    \n",
    "    \n",
    "def M265BackSubs(A,b):\n",
    "    [rowsA,colsA] = MatrixDim(A)\n",
    "    if ((rowsA < 0) or (colsA<0)):\n",
    "        return []\n",
    "    if (len(b)!=rowsA):\n",
    "        return []\n",
    "    LPos = M265isREch(A)\n",
    "    #if (len(LPos)<=0):\n",
    "    #    return [-1]\n",
    "    M265_partSol = [0 for i in range(colsA)]\n",
    "    for i in range(len(LPos)):\n",
    "        M265_partSol[LPos[i]] = b[i]\n",
    "    if (len(LPos)<len(b)):\n",
    "        for i in range(len(LPos),len(b)):\n",
    "            if (b[i]!=0):\n",
    "                M265_partSol=[]\n",
    "        \n",
    "    M265_homgSol = [0 for i in range(len(A[0]))]\n",
    "    \n",
    "    Free=[0 for i in range(colsA - len(LPos))]\n",
    "    freePos =0\n",
    "    basicPos =0\n",
    "    for i in range(colsA):\n",
    "        if ((basicPos >= len(LPos)) or (i<LPos[basicPos]))  :\n",
    "            Free[freePos] = i\n",
    "            freePos+=1\n",
    "        else:\n",
    "            basicPos+=1\n",
    "\n",
    "    M265_homgSol = [[0 for c in range(colsA)] for i in range(len(Free))]\n",
    "\n",
    "    for c in range(len(Free)):\n",
    "        M265_homgSol[c][Free[c]]=1\n",
    "        for l in range(len(LPos)):\n",
    "            M265_homgSol[c][LPos[l]]=-A[l][Free[c]]\n",
    "            \n",
    "    return [M265_partSol,M265_homgSol]\n",
    "\n",
    "def M265Swap(rowi,rowj,order):\n",
    "    if ((rowi >= order) or (rowj>=order)):\n",
    "        return []\n",
    "    res = [[0 for i in range(order)] for j in range(order)]\n",
    "    for i in range(order):\n",
    "        res[i][i]=1\n",
    "    res[rowi][rowj]=1\n",
    "    res[rowj][rowi]=1\n",
    "    res[rowi][rowi]=0\n",
    "    res[rowj][rowj]=0\n",
    "    return res\n",
    "\n",
    "def M265cM(row,const,order):\n",
    "    if (row >= order):\n",
    "        return []\n",
    "    res = [[0 for i in range(order)] for j in range(order)]\n",
    "    for i in range(order):\n",
    "        res[i][i]=1\n",
    "    res[row][row]=const\n",
    "    return res\n",
    "\n",
    "def M265LC(rowi,rowj,const,order):\n",
    "    if ((rowi >= order) or (rowj>=order) or (rowi==rowj)):\n",
    "        return []\n",
    "    res = [[0 for i in range(order)] for j in range(order)]\n",
    "    for i in range(order):\n",
    "        res[i][i]=1\n",
    "    res[rowi][rowj]=const\n",
    "    return res\n",
    "\n",
    "def M265GaussianElimination(A,debug=False):\n",
    "    resEliminations = []\n",
    "    [rowsA,colsA]=MatrixDim(A)\n",
    "    order=rowsA\n",
    "    EP = [[0 for i in range(rowsA)] for j in range(rowsA)]\n",
    "    if (debug):\n",
    "        nPrint(A)\n",
    "    rw = 0\n",
    "    cl = 0\n",
    "    for c in range(colsA):\n",
    "        hasPivot = False\n",
    "        for r in range(rw,rowsA):\n",
    "            if (A[r][cl]!=0):\n",
    "                hasPivot = True\n",
    "                if (r!=rw):\n",
    "                    EP =M265Swap(rw,r,order)\n",
    "                    A = MatrixMult(EP,A)\n",
    "                    resEliminations.append(EP)\n",
    "                    if (debug):\n",
    "                        print(\"\\n\")\n",
    "                        print(\"Swap row \",rw,\"with row\", r)\n",
    "                        nPrint(A)\n",
    "                break\n",
    "        if (hasPivot):\n",
    "            if (A[rw][cl]!=1):\n",
    "                EP = M265cM(rw,1.0/A[rw][cl],order)       \n",
    "                resEliminations.append(EP)\n",
    "                A = MatrixMult(EP,A)\n",
    "                if (debug):\n",
    "                    print(\"\\n\")\n",
    "                    print(\"Scale row\", rw)\n",
    "                    nPrint(A)\n",
    "            for r in range(rowsA):\n",
    "                if ((r==rw) or (A[r][cl]==0)):\n",
    "                    continue\n",
    "                EP = M265LC(r,rw,-1.0*A[r][cl],order)\n",
    "                resEliminations.append(EP)\n",
    "                A = MatrixMult(EP,A)\n",
    "                if(debug):\n",
    "                    print(\"\\n\")\n",
    "                    print(\"Add multiple of row\",rw,\"to row\",r )\n",
    "                    nPrint(A)\n",
    "            rw += 1\n",
    "        cl += 1\n",
    "    return resEliminations\n"
   ]
  },
  {
   "cell_type": "markdown",
   "metadata": {},
   "source": [
    "<h1> Homework 4 </h1>"
   ]
  },
  {
   "cell_type": "markdown",
   "metadata": {},
   "source": [
    "The notebook send earlier today describes a vector space V and operations on that vector space. \n",
    "\n",
    "<b>Task 1:</b> Implement those (you may disregard the homework from last week that also required you to write operations of a vector space). \n",
    "\n",
    "The notebook contains four b1, b2, b3 and b4 vectors from V. They are linearly dependent. You must set up a system of linear equations whose set of solutions is going to tell you that the vectors are linearly dependent\n",
    "\n",
    "<b>Task 2:</b> write the matrix and vector of constants that when solved identifies that vectors b1, b2, b3 and b4 are linearly dependent.\n",
    "\n",
    "Starting with b1,b2,b3 and b4 by removing one vector from those you can show that the vectors are linearly independent. This is again done with a system of linear equations and analyzing its set of solutions.\n",
    "\n",
    "<b>Task 3:</b> as in Task2 write the system of linear equations and a vector of constants that when solved will tell you that the vectors you chose are linearly independent.\n",
    "\n",
    "In your first homework you were given matrices. From the first of those matrices, take the first three values in row zero and treat them as a vector in V. Call this vector u.\n",
    "\n",
    "<b>Task 4:</b> Set up a system of linear equation (matrix and vector of constants) that when solved will give the coordinates of u in the base from Task 3.\n",
    "\n",
    "<b>Task 5:</b> Given any basis B of V and vector w in V, write a function that returns the coordinates of w in B.\n",
    "\n",
    "--------------------------------------------------------------------------------------------------------------------------"
   ]
  },
  {
   "cell_type": "markdown",
   "metadata": {},
   "source": [
    "<h3>The Vector Space: V</h3>"
   ]
  },
  {
   "cell_type": "markdown",
   "metadata": {},
   "source": [
    "$ u = \\left(\\begin{array}{c} x\\\\y\\\\z\\end{array}\\right)$ $ v = \\left(\\begin{array}{c} s\\\\t\\\\r\\end{array}\\right)$"
   ]
  },
  {
   "cell_type": "markdown",
   "metadata": {},
   "source": [
    "$$u\\oplus v \n",
    " = \\left(\\begin{array}{c} x\\\\y\\\\z\\end{array}\\right)\n",
    "     \\oplus \\left(\\begin{array}{c} s\\\\t\\\\r\\end{array}\\right)\n",
    " = \\left(\\begin{array}{c} x+s-2\\\\y+t\\\\z+r+4\\end{array}\\right)$$"
   ]
  },
  {
   "cell_type": "markdown",
   "metadata": {},
   "source": [
    "$$\\alpha \\odot \\vec{u}\n",
    "    =\\alpha \\odot\\left(\\begin{array}{c} x\\\\y\\\\z\\end{array}\\right)\n",
    "    =\\alpha \\odot\\left(\\begin{array}{c} \n",
    "            \\alpha x-2\\alpha +2\n",
    "            \\\\\\alpha y\n",
    "            \\\\\\alpha z +4\\alpha - 4\\end{array}\\right)$$"
   ]
  },
  {
   "cell_type": "code",
   "execution_count": 79,
   "metadata": {},
   "outputs": [],
   "source": [
    "b1 =[1,3,4]\n",
    "b2 = [0,0,0]\n",
    "b3 = [2,0,-4]\n",
    "b4 = [-2,0,4]"
   ]
  },
  {
   "cell_type": "code",
   "execution_count": 80,
   "metadata": {},
   "outputs": [],
   "source": [
    "def VS_sum(m1,m2):\n",
    "    return [m1[0] + m2[0] - 2, m1[1] + m2[1], m1[2] + m2[2] + 4]\n",
    "\n",
    "def VS_mult(a,m):\n",
    "    return [(a*m[0])-(2*a)+2, a*m[1], (a*m[2])-(4*a)-4]\n",
    "\n",
    "def VS_zero(m):\n",
    "    return VS_mult(0,m)\n",
    "\n",
    "def VS_additiveInverse(m):\n",
    "    return VS_mult(-1,m)"
   ]
  },
  {
   "cell_type": "markdown",
   "metadata": {},
   "source": [
    "create augmented matrix"
   ]
  },
  {
   "cell_type": "code",
   "execution_count": 81,
   "metadata": {},
   "outputs": [
    {
     "name": "stdout",
     "output_type": "stream",
     "text": [
      "Augmented Matrix: \n",
      "[1, 0, 2, -2, 2]\n",
      "[3, 0, 0, 0, 0]\n",
      "[4, 0, -4, 4, -4]\n"
     ]
    },
    {
     "data": {
      "text/plain": [
       "True"
      ]
     },
     "execution_count": 81,
     "metadata": {},
     "output_type": "execute_result"
    }
   ],
   "source": [
    "AM = [[1,0,2,-2,VS_zero(b1)[0]],[3,0,0,0,VS_zero(b1)[1]],[4,0,-4,4,VS_zero(b1)[2]]]\n",
    "print(\"Augmented Matrix: \")\n",
    "nPrint(AM)"
   ]
  },
  {
   "cell_type": "markdown",
   "metadata": {},
   "source": [
    "apply gauss-jordan to augmented matrix"
   ]
  },
  {
   "cell_type": "code",
   "execution_count": 82,
   "metadata": {},
   "outputs": [
    {
     "name": "stdout",
     "output_type": "stream",
     "text": [
      "You can't do that\n"
     ]
    },
    {
     "ename": "IndexError",
     "evalue": "list index out of range",
     "output_type": "error",
     "traceback": [
      "\u001b[0;31m---------------------------------------------------------------------------\u001b[0m",
      "\u001b[0;31mIndexError\u001b[0m                                Traceback (most recent call last)",
      "\u001b[0;32m<ipython-input-82-05f039f93382>\u001b[0m in \u001b[0;36m<module>\u001b[0;34m\u001b[0m\n\u001b[0;32m----> 1\u001b[0;31m \u001b[0;32mfor\u001b[0m \u001b[0melementary\u001b[0m \u001b[0;32min\u001b[0m \u001b[0mM265GaussianElimination\u001b[0m\u001b[0;34m(\u001b[0m\u001b[0mAM\u001b[0m\u001b[0;34m)\u001b[0m\u001b[0;34m:\u001b[0m\u001b[0;34m\u001b[0m\u001b[0;34m\u001b[0m\u001b[0m\n\u001b[0m\u001b[1;32m      2\u001b[0m     \u001b[0mAM\u001b[0m \u001b[0;34m=\u001b[0m \u001b[0mMatrixMult\u001b[0m\u001b[0;34m(\u001b[0m\u001b[0melementary\u001b[0m\u001b[0;34m,\u001b[0m \u001b[0mAM\u001b[0m\u001b[0;34m)\u001b[0m\u001b[0;34m\u001b[0m\u001b[0;34m\u001b[0m\u001b[0m\n",
      "\u001b[0;32m<ipython-input-78-f453d043a45e>\u001b[0m in \u001b[0;36mM265GaussianElimination\u001b[0;34m(A, debug)\u001b[0m\n\u001b[1;32m    171\u001b[0m                     \u001b[0mnPrint\u001b[0m\u001b[0;34m(\u001b[0m\u001b[0mA\u001b[0m\u001b[0;34m)\u001b[0m\u001b[0;34m\u001b[0m\u001b[0;34m\u001b[0m\u001b[0m\n\u001b[1;32m    172\u001b[0m             \u001b[0;32mfor\u001b[0m \u001b[0mr\u001b[0m \u001b[0;32min\u001b[0m \u001b[0mrange\u001b[0m\u001b[0;34m(\u001b[0m\u001b[0mrowsA\u001b[0m\u001b[0;34m)\u001b[0m\u001b[0;34m:\u001b[0m\u001b[0;34m\u001b[0m\u001b[0;34m\u001b[0m\u001b[0m\n\u001b[0;32m--> 173\u001b[0;31m                 \u001b[0;32mif\u001b[0m \u001b[0;34m(\u001b[0m\u001b[0;34m(\u001b[0m\u001b[0mr\u001b[0m\u001b[0;34m==\u001b[0m\u001b[0mrw\u001b[0m\u001b[0;34m)\u001b[0m \u001b[0;32mor\u001b[0m \u001b[0;34m(\u001b[0m\u001b[0mA\u001b[0m\u001b[0;34m[\u001b[0m\u001b[0mr\u001b[0m\u001b[0;34m]\u001b[0m\u001b[0;34m[\u001b[0m\u001b[0mcl\u001b[0m\u001b[0;34m]\u001b[0m\u001b[0;34m==\u001b[0m\u001b[0;36m0\u001b[0m\u001b[0;34m)\u001b[0m\u001b[0;34m)\u001b[0m\u001b[0;34m:\u001b[0m\u001b[0;34m\u001b[0m\u001b[0;34m\u001b[0m\u001b[0m\n\u001b[0m\u001b[1;32m    174\u001b[0m                     \u001b[0;32mcontinue\u001b[0m\u001b[0;34m\u001b[0m\u001b[0;34m\u001b[0m\u001b[0m\n\u001b[1;32m    175\u001b[0m                 \u001b[0mEP\u001b[0m \u001b[0;34m=\u001b[0m \u001b[0mM265LC\u001b[0m\u001b[0;34m(\u001b[0m\u001b[0mr\u001b[0m\u001b[0;34m,\u001b[0m\u001b[0mrw\u001b[0m\u001b[0;34m,\u001b[0m\u001b[0;34m-\u001b[0m\u001b[0;36m1.0\u001b[0m\u001b[0;34m*\u001b[0m\u001b[0mA\u001b[0m\u001b[0;34m[\u001b[0m\u001b[0mr\u001b[0m\u001b[0;34m]\u001b[0m\u001b[0;34m[\u001b[0m\u001b[0mcl\u001b[0m\u001b[0;34m]\u001b[0m\u001b[0;34m,\u001b[0m\u001b[0morder\u001b[0m\u001b[0;34m)\u001b[0m\u001b[0;34m\u001b[0m\u001b[0;34m\u001b[0m\u001b[0m\n",
      "\u001b[0;31mIndexError\u001b[0m: list index out of range"
     ]
    }
   ],
   "source": [
    "for elementary in M265GaussianElimination(AM):\n",
    "    AM = MatrixMult(elementary, AM)"
   ]
  },
  {
   "cell_type": "markdown",
   "metadata": {},
   "source": [
    "apply back substitution to eliminated matrix"
   ]
  },
  {
   "cell_type": "code",
   "execution_count": null,
   "metadata": {},
   "outputs": [],
   "source": [
    "observe the roots and conclude"
   ]
  }
 ],
 "metadata": {
  "kernelspec": {
   "display_name": "Python 3",
   "language": "python",
   "name": "python3"
  },
  "language_info": {
   "codemirror_mode": {
    "name": "ipython",
    "version": 3
   },
   "file_extension": ".py",
   "mimetype": "text/x-python",
   "name": "python",
   "nbconvert_exporter": "python",
   "pygments_lexer": "ipython3",
   "version": "3.8.5"
  }
 },
 "nbformat": 4,
 "nbformat_minor": 4
}
