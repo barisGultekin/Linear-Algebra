{
 "cells": [
  {
   "cell_type": "markdown",
   "metadata": {},
   "source": [
    "<h1>Math 265 Linear Algebra Homework 4</h1>"
   ]
  },
  {
   "cell_type": "markdown",
   "metadata": {},
   "source": [
    "<h2>Matrix multiplication</h2>"
   ]
  },
  {
   "cell_type": "code",
   "execution_count": 1,
   "metadata": {},
   "outputs": [],
   "source": [
    "def MatrixDim(A):\n",
    "    #\n",
    "    # This function is supposed to return the dimensions of matrix A\n",
    "    #\n",
    "    M265rows = len(A)\n",
    "    if (M265rows <= 0):\n",
    "        return[-1,-1]\n",
    "    M265cols = len(A[0])\n",
    "    # we will check that this is indeed matrix i.e. number of cols in every row is the same\n",
    "    for i in range(M265rows):\n",
    "        if (len(A[i]) != M265cols):\n",
    "            return [-1,-1]\n",
    "    return [M265rows, M265cols]  \n",
    "\n",
    "def nPrint(A):\n",
    "    for i in range(len(A)):\n",
    "        print(A[i])\n",
    "    return True\n",
    "\n",
    "def MatrixMult(A,B):\n",
    "    #\n",
    "    # This function should multiply the matrices A and B\n",
    "    # start by creating an empty array\n",
    "    [rowsA,colsA] = MatrixDim(A)\n",
    "    [rowsB,colsB] = MatrixDim(B)\n",
    "    if ((colsA != rowsB) and (colsA > 0)):\n",
    "        # if matrix multiplication cannot be done return an empty array\n",
    "        return []\n",
    "        \n",
    "    M265Result = [[0 for k in range(colsB)] for r in range(rowsA)]\n",
    "    for rw in range(rowsA):\n",
    "        for cl in range(colsB):\n",
    "            tmp =0\n",
    "            for k in range(colsA):\n",
    "                tmp = tmp + A[rw][k]*B[k][cl]\n",
    "            M265Result[rw][cl]=tmp\n",
    "    return M265Result"
   ]
  },
  {
   "cell_type": "markdown",
   "metadata": {},
   "source": [
    "<h2>Back Substitution Programming<h2>"
   ]
  },
  {
   "cell_type": "code",
   "execution_count": 2,
   "metadata": {
    "jupyter": {
     "source_hidden": true
    }
   },
   "outputs": [],
   "source": [
    "def M265isEchelon(A):\n",
    "    #\n",
    "    # given a matrix A this function must check if the matrix is in Echelon form\n",
    "    # the function should return True if the matrix A is in Echelon form \n",
    "    # else the function should return false\n",
    "    #\n",
    "    M265_isEcheclon = False\n",
    "    [rowsA,colsA]=MatrixDim(A)\n",
    "    leading = [colsA+1+rw for rw in range(rowsA)]\n",
    "    for rw in range(rowsA):\n",
    "        for cl in range(colsA):\n",
    "            if (A[rw][cl] != 0):\n",
    "                leading[rw] = cl\n",
    "                break\n",
    "    M265_isEchelon = True\n",
    "    for rw in range(rowsA-1):\n",
    "        if (leading[rw] >= leading[rw+1]):\n",
    "            M265_isEchelon = False\n",
    "    return M265_isEchelon\n",
    "\n",
    "def M265isREch(A):\n",
    "    #\n",
    "    # given a matrix A this function returns an array with one negative\n",
    "    # value depending on which check failed if A is not in reduced Echelon form\n",
    "    # otherwise the result is an array of col positions of leading variables\n",
    "    [rowsA,colsA] = MatrixDim(A)\n",
    "    leading = [colsA+1+rw for rw in range(rowsA)]\n",
    "    posLeading = []\n",
    "    # first we find leading coefficients and check that those equal 1\n",
    "    for rw in range(rowsA):\n",
    "        for cl in range(colsA):\n",
    "            if (A[rw][cl] != 0):\n",
    "                leading[rw] = cl\n",
    "                if (A[rw][cl]!=1):\n",
    "                    return [-1]\n",
    "                posLeading.append(cl)\n",
    "                break\n",
    "    # second we check every leading variable is to the right of \n",
    "    # the leading variable in the above row\n",
    "    M265_isEchelon = True\n",
    "    for rw in range(rowsA-1):\n",
    "        if (leading[rw] >= leading[rw+1]):\n",
    "            M265_isEchelon = False\n",
    "    if (not M265_isEchelon):\n",
    "        return [-2]\n",
    "    # lastly we check that for a given leading variable the coefficients in any\n",
    "    # other equation for that variable is zero\n",
    "    for i in range(len(posLeading)):\n",
    "        for rw in range(rowsA):\n",
    "            if ((rw != i) and (A[rw][posLeading[i]]!=0)):\n",
    "                return [-3]\n",
    "    return posLeading\n",
    "    \n",
    "    \n",
    "def M265BackSubs(A,b):\n",
    "    #\n",
    "    # in this function you are supposed to solve a system of linear equations\n",
    "    # with matrix A and constant b\n",
    "    # the result should be an array of vectors M265_solSet\n",
    "    # the first entry of M265_solSet is a particular solution\n",
    "    # the remaining entries are vectors describing the homogeneous solution\n",
    "    #\n",
    "    ##################\n",
    "    #\n",
    "    # First let us create a vector for the particular solution\n",
    "    #\n",
    "    [rowsA,colsA] = MatrixDim(A)\n",
    "    if ((rowsA < 0) or (colsA<0)):\n",
    "        return []\n",
    "    if (len(b)!=rowsA):\n",
    "        return []\n",
    "    LPos = M265isREch(A)\n",
    "    #if (len(LPos)<=0):\n",
    "    #    return [-1]\n",
    "    M265_partSol = [0 for i in range(colsA)]\n",
    "    for i in range(len(LPos)):\n",
    "        M265_partSol[LPos[i]] = b[i]\n",
    "    if (len(LPos)<len(b)):\n",
    "        for i in range(len(LPos),len(b)):\n",
    "            if (b[i]!=0):\n",
    "                M265_partSol=[]\n",
    "        \n",
    "    M265_homgSol = [0 for i in range(len(A[0]))]\n",
    "    \n",
    "    Free=[0 for i in range(colsA - len(LPos))]\n",
    "    freePos =0\n",
    "    basicPos =0\n",
    "    for i in range(colsA):\n",
    "        if ((basicPos >= len(LPos)) or (i<LPos[basicPos]))  :\n",
    "            Free[freePos] = i\n",
    "            freePos+=1\n",
    "        else:\n",
    "            basicPos+=1\n",
    "\n",
    "    M265_homgSol = [[0 for c in range(colsA)] for i in range(len(Free))]\n",
    "\n",
    "    for c in range(len(Free)):\n",
    "        M265_homgSol[c][Free[c]]=1\n",
    "        for l in range(len(LPos)):\n",
    "            M265_homgSol[c][LPos[l]]=-A[l][Free[c]]\n",
    "            \n",
    "    return [M265_partSol,M265_homgSol]"
   ]
  },
  {
   "cell_type": "markdown",
   "metadata": {},
   "source": [
    "<h2>Gaussian Elimination</h2>"
   ]
  },
  {
   "cell_type": "code",
   "execution_count": 3,
   "metadata": {
    "jupyter": {
     "source_hidden": true
    }
   },
   "outputs": [],
   "source": [
    "def M265Swap(rowi,rowj,order):\n",
    "    if ((rowi >= order) or (rowj>=order)):\n",
    "        return []\n",
    "    res = [[0 for i in range(order)] for j in range(order)]\n",
    "    for i in range(order):\n",
    "        res[i][i]=1\n",
    "    res[rowi][rowj]=1\n",
    "    res[rowj][rowi]=1\n",
    "    res[rowi][rowi]=0\n",
    "    res[rowj][rowj]=0\n",
    "    return res\n",
    "\n",
    "def M265cM(row,const,order):\n",
    "    if (row >= order):\n",
    "        return []\n",
    "    res = [[0 for i in range(order)] for j in range(order)]\n",
    "    for i in range(order):\n",
    "        res[i][i]=1\n",
    "    res[row][row]=const\n",
    "    return res\n",
    "\n",
    "def M265LC(rowi,rowj,const,order):\n",
    "    # set rowi as rowi+const*rowj\n",
    "    if ((rowi >= order) or (rowj>=order) or (rowi==rowj)):\n",
    "        return []\n",
    "    res = [[0 for i in range(order)] for j in range(order)]\n",
    "    for i in range(order):\n",
    "        res[i][i]=1\n",
    "    res[rowi][rowj]=const\n",
    "    return res\n",
    "\n",
    "def M265GaussianElimination(A,debug=False):\n",
    "    resEliminations = []\n",
    "    [rowsA,colsA]=MatrixDim(A)\n",
    "    order=rowsA\n",
    "    EP = [[0 for i in range(rowsA)] for j in range(rowsA)]\n",
    "    if (debug):\n",
    "        nPrint(A)\n",
    "    rw = 0\n",
    "    cl = 0\n",
    "    for c in range(colsA):\n",
    "        hasPivot = False\n",
    "        # first we check if the column under question has a pivot\n",
    "        for r in range(rw,rowsA):\n",
    "            if (A[r][cl]!=0):\n",
    "                hasPivot = True\n",
    "                if (r!=rw):\n",
    "                    EP =M265Swap(rw,r,order)\n",
    "                    A = MatrixMult(EP,A)\n",
    "                    resEliminations.append(EP)\n",
    "                    if (debug):\n",
    "                        print(\"\\n\")\n",
    "                        print(\"Swap row \",rw,\"with row\", r)\n",
    "                        nPrint(A)\n",
    "                break # if there is a pivot \n",
    "        if (hasPivot):\n",
    "            # if there is a pivot first scale it to one if the pivot is not one\n",
    "            if (A[rw][cl]!=1):\n",
    "                EP = M265cM(rw,1.0/A[rw][cl],order)       \n",
    "                resEliminations.append(EP)\n",
    "                A = MatrixMult(EP,A)\n",
    "                if (debug):\n",
    "                    print(\"\\n\")\n",
    "                    print(\"Scale row\", rw)\n",
    "                    nPrint(A)\n",
    "\n",
    "            # make the respective entries in the column zero except for the row that contains the pivot (r==rw)\n",
    "            # further if a row has already entry zero at that column skip that row as the resulting scaling\n",
    "            # is simply the identity matrix (A[r][cl]==0)\n",
    "            for r in range(rowsA):\n",
    "                if ((r==rw) or (A[r][cl]==0)):\n",
    "                    continue\n",
    "                EP = M265LC(r,rw,-1.0*A[r][cl],order)\n",
    "                resEliminations.append(EP)\n",
    "                A = MatrixMult(EP,A)\n",
    "                if(debug):\n",
    "                    print(\"\\n\")\n",
    "                    print(\"Add multiple of row\",rw,\"to row\",r )\n",
    "                    nPrint(A)\n",
    "            rw += 1 # if there was a pivot in this column for the remaining rows up we search for pivots\n",
    "            # only on rows that are below it\n",
    "        cl += 1\n",
    "    return resEliminations"
   ]
  },
  {
   "cell_type": "markdown",
   "metadata": {},
   "source": [
    "<h1> Homework 4 </h1>"
   ]
  },
  {
   "cell_type": "markdown",
   "metadata": {},
   "source": [
    "The notebook send earlier today describes a vector space V and operations on that vector space. \n",
    "\n",
    "<b>Task 1:</b> Implement those (you may disregard the homework from last week that also required you to write operations of a vector space). \n",
    "\n",
    "The notebook contains four b1, b2, b3 and b4 vectors from V. They are linearly dependent. You must set up a system of linear equations whose set of solutions is going to tell you that the vectors are linearly dependent\n",
    "\n",
    "<b>Task 2:</b> write the matrix and vector of constants that when solved identifies that vectors b1, b2, b3 and b4 are linearly dependent.\n",
    "\n",
    "Starting with b1,b2,b3 and b4 by removing one vector from those you can show that the vectors are linearly independent. This is again done with a system of linear equations and analyzing its set of solutions.\n",
    "\n",
    "<b>Task 3:</b> as in Task2 write the system of linear equations and a vector of constants that when solved will tell you that the vectors you chose are linearly independent.\n",
    "\n",
    "In your first homework you were given matrices. From the first of those matrices, take the first three values in row zero and treat them as a vector in V. Call this vector u.\n",
    "\n",
    "<b>Task 4:</b> Set up a system of linear equation (matrix and vector of constants) that when solved will give the coordinates of u in the base from Task 3.\n",
    "\n",
    "<b>Task 5:</b> Given any basis B of V and vector w in V, write a function that returns the coordinates of w in B.\n",
    "\n",
    "--------------------------------------------------------------------------------------------------------------------------"
   ]
  },
  {
   "cell_type": "markdown",
   "metadata": {},
   "source": [
    "<h3>The Vector Space: V</h3>"
   ]
  },
  {
   "cell_type": "markdown",
   "metadata": {},
   "source": [
    "$ u = \\left(\\begin{array}{c} x\\\\y\\\\z\\end{array}\\right)$ $ v = \\left(\\begin{array}{c} s\\\\t\\\\r\\end{array}\\right)$"
   ]
  },
  {
   "cell_type": "markdown",
   "metadata": {},
   "source": [
    "$$u\\oplus v \n",
    " = \\left(\\begin{array}{c} x\\\\y\\\\z\\end{array}\\right)\n",
    "     \\oplus \\left(\\begin{array}{c} s\\\\t\\\\r\\end{array}\\right)\n",
    " = \\left(\\begin{array}{c} x+s-2\\\\y+t\\\\z+r+4\\end{array}\\right)$$"
   ]
  },
  {
   "cell_type": "markdown",
   "metadata": {},
   "source": [
    "$$\\alpha \\odot \\vec{u}\n",
    "    =\\alpha \\odot\\left(\\begin{array}{c} x\\\\y\\\\z\\end{array}\\right)\n",
    "    =\\alpha \\odot\\left(\\begin{array}{c} \n",
    "            \\alpha x-2\\alpha +2\n",
    "            \\\\\\alpha y\n",
    "            \\\\\\alpha z +4\\alpha - 4\\end{array}\\right)$$"
   ]
  },
  {
   "cell_type": "code",
   "execution_count": 69,
   "metadata": {},
   "outputs": [],
   "source": [
    "b1 =[1,3,4]\n",
    "b2 = [0,0,0]\n",
    "b3 = [2,0,-4]\n",
    "b4 = [-2,0,4]"
   ]
  },
  {
   "cell_type": "markdown",
   "metadata": {},
   "source": [
    "<h3> Task 1: Vector Space Implementation </h3>"
   ]
  },
  {
   "cell_type": "code",
   "execution_count": 70,
   "metadata": {},
   "outputs": [],
   "source": [
    "def VS_sum(m1,m2):\n",
    "    return [m1[0] + m2[0] - 2, m1[1] + m2[1], m1[2] + m2[2] + 4]\n",
    "\n",
    "def VS_mult(a,m):\n",
    "    return [(a*m[0])-(2*a)+2, a*m[1], (a*m[2])-(4*a)-4]\n",
    "\n",
    "def VS_zero(m):\n",
    "    return VS_mult(0,m)\n",
    "\n",
    "def VS_additiveInverse(m):\n",
    "    return VS_mult(-1,m)"
   ]
  },
  {
   "cell_type": "markdown",
   "metadata": {},
   "source": [
    "<h3> Task 2: Showing Linear Dependency </h3>"
   ]
  },
  {
   "cell_type": "code",
   "execution_count": 71,
   "metadata": {},
   "outputs": [
    {
     "name": "stdout",
     "output_type": "stream",
     "text": [
      "Coefficent Matrix: \n",
      "[-1, -2, 0, -4]\n",
      "[3, 0, 0, 0]\n",
      "[8, 4, 0, 8]\n"
     ]
    }
   ],
   "source": [
    "zv = VS_zero(b1)\n",
    "AM = [[1-zv[0],0-zv[0],2-zv[0],-2-zv[0]],[3-zv[1],0-zv[1],0-zv[1],0-zv[1]],[4-zv[2],0-zv[2],-4-zv[2],4-zv[2]]]\n",
    "print(\"Coefficent Matrix: \")\n",
    "nPrint(AM)\n",
    "b = [0,0,0]"
   ]
  },
  {
   "cell_type": "markdown",
   "metadata": {},
   "source": [
    "$$\\begin{bmatrix} -1 & -2 & 0 & -4 & | & 0 \\\\ 3 & 0 & 0 & 0 & | & 0 \\\\ 8 & 4 & 0 & 8 & | & 0 \\end{bmatrix}$$"
   ]
  },
  {
   "cell_type": "code",
   "execution_count": 72,
   "metadata": {},
   "outputs": [],
   "source": [
    "for elementary in M265GaussianElimination(AM):\n",
    "    AM = MatrixMult(elementary, AM)"
   ]
  },
  {
   "cell_type": "code",
   "execution_count": 73,
   "metadata": {},
   "outputs": [
    {
     "name": "stdout",
     "output_type": "stream",
     "text": [
      "[1.0, 0.0, 0.0, 0.0]\n",
      "[0.0, 1.0, 0.0, 2.0]\n",
      "[0.0, 0.0, 0.0, 0.0]\n"
     ]
    },
    {
     "data": {
      "text/plain": [
       "True"
      ]
     },
     "execution_count": 73,
     "metadata": {},
     "output_type": "execute_result"
    }
   ],
   "source": [
    "nPrint(AM)"
   ]
  },
  {
   "cell_type": "code",
   "execution_count": 74,
   "metadata": {},
   "outputs": [
    {
     "data": {
      "text/plain": [
       "[[0, 0, 0, 0], [[-0.0, -0.0, 1, 0], [-0.0, -2.0, 0, 1]]]"
      ]
     },
     "execution_count": 74,
     "metadata": {},
     "output_type": "execute_result"
    }
   ],
   "source": [
    "M265BackSubs(AM,b)"
   ]
  },
  {
   "cell_type": "markdown",
   "metadata": {},
   "source": [
    "<em>conclude</em>"
   ]
  },
  {
   "cell_type": "markdown",
   "metadata": {},
   "source": [
    "Removing <b>b1</b>."
   ]
  },
  {
   "cell_type": "code",
   "execution_count": 75,
   "metadata": {},
   "outputs": [
    {
     "name": "stdout",
     "output_type": "stream",
     "text": [
      "[-2, 0, -4]\n",
      "[0, 0, 0]\n",
      "[4, 0, 8]\n",
      "[1.0, 0.0, 2.0]\n",
      "[0.0, 0.0, 0.0]\n",
      "[0.0, 0.0, 0.0]\n"
     ]
    },
    {
     "data": {
      "text/plain": [
       "[[0, 0, 0], [[-0.0, 1, 0], [-2.0, 0, 1]]]"
      ]
     },
     "execution_count": 75,
     "metadata": {},
     "output_type": "execute_result"
    }
   ],
   "source": [
    "AM = [0-zv[0],2-zv[0],-2-zv[0]],[0-zv[1],0-zv[1],0-zv[1]],[0-zv[2],-4-zv[2],4-zv[2]]\n",
    "nPrint(AM)\n",
    "for elementary in M265GaussianElimination(AM):\n",
    "    AM = MatrixMult(elementary, AM)\n",
    "nPrint(AM)\n",
    "M265BackSubs(AM,b)"
   ]
  },
  {
   "cell_type": "markdown",
   "metadata": {},
   "source": [
    "Removing <b>b2</b>."
   ]
  },
  {
   "cell_type": "code",
   "execution_count": 76,
   "metadata": {},
   "outputs": [
    {
     "name": "stdout",
     "output_type": "stream",
     "text": [
      "[-1, 0, -4]\n",
      "[3, 0, 0]\n",
      "[8, 0, 8]\n",
      "[1.0, 0.0, 0.0]\n",
      "[0.0, 0.0, 1.0]\n",
      "[0.0, 0.0, 0.0]\n"
     ]
    },
    {
     "data": {
      "text/plain": [
       "[[0, 0, 0], [[-0.0, 1, -0.0]]]"
      ]
     },
     "execution_count": 76,
     "metadata": {},
     "output_type": "execute_result"
    }
   ],
   "source": [
    "AM = [[1-zv[0],2-zv[0],-2-zv[0]],[3-zv[1],0-zv[1],0-zv[1]],[4-zv[2],-4-zv[2],4-zv[2]]]\n",
    "nPrint(AM)\n",
    "for elementary in M265GaussianElimination(AM):\n",
    "    AM = MatrixMult(elementary, AM)\n",
    "nPrint(AM)\n",
    "M265BackSubs(AM,b)"
   ]
  },
  {
   "cell_type": "markdown",
   "metadata": {},
   "source": [
    "Removing <b>b3</b>."
   ]
  },
  {
   "cell_type": "code",
   "execution_count": 77,
   "metadata": {},
   "outputs": [
    {
     "name": "stdout",
     "output_type": "stream",
     "text": [
      "[-1, -2, -4]\n",
      "[3, 0, 0]\n",
      "[8, 4, 8]\n",
      "[1.0, 0.0, 0.0]\n",
      "[0.0, 1.0, 2.0]\n",
      "[0.0, 0.0, 0.0]\n"
     ]
    },
    {
     "data": {
      "text/plain": [
       "[[0, 0, 0], [[-0.0, -2.0, 1]]]"
      ]
     },
     "execution_count": 77,
     "metadata": {},
     "output_type": "execute_result"
    }
   ],
   "source": [
    "AM = [[1-zv[0],0-zv[0],-2-zv[0]],[3-zv[1],0-zv[1],0-zv[1]],[4-zv[2],0-zv[2],4-zv[2]]]\n",
    "nPrint(AM)\n",
    "for elementary in M265GaussianElimination(AM):\n",
    "    AM = MatrixMult(elementary, AM)\n",
    "nPrint(AM)\n",
    "M265BackSubs(AM,b)"
   ]
  },
  {
   "cell_type": "markdown",
   "metadata": {},
   "source": [
    "Removing <b>b4</b>."
   ]
  },
  {
   "cell_type": "code",
   "execution_count": 79,
   "metadata": {},
   "outputs": [
    {
     "name": "stdout",
     "output_type": "stream",
     "text": [
      "[-1, -2, 0]\n",
      "[3, 0, 0]\n",
      "[8, 4, 0]\n",
      "[1.0, 0.0, 0.0]\n",
      "[0.0, 1.0, 0.0]\n",
      "[0.0, 0.0, 0.0]\n"
     ]
    },
    {
     "data": {
      "text/plain": [
       "[[0, 0, 0], [[-0.0, -0.0, 1]]]"
      ]
     },
     "execution_count": 79,
     "metadata": {},
     "output_type": "execute_result"
    }
   ],
   "source": [
    "AM = [[1-zv[0],0-zv[0],2-zv[0]],[3-zv[1],0-zv[1],0-zv[1]],[4-zv[2],0-zv[2],-4-zv[2]]]\n",
    "nPrint(AM)\n",
    "for elementary in M265GaussianElimination(AM):\n",
    "    AM = MatrixMult(elementary, AM)\n",
    "nPrint(AM)\n",
    "M265BackSubs(AM,b)"
   ]
  }
 ],
 "metadata": {
  "kernelspec": {
   "display_name": "Python 3",
   "language": "python",
   "name": "python3"
  },
  "language_info": {
   "codemirror_mode": {
    "name": "ipython",
    "version": 3
   },
   "file_extension": ".py",
   "mimetype": "text/x-python",
   "name": "python",
   "nbconvert_exporter": "python",
   "pygments_lexer": "ipython3",
   "version": "3.8.5"
  }
 },
 "nbformat": 4,
 "nbformat_minor": 4
}
