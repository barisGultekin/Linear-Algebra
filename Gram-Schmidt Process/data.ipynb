{
 "cells": [
  {
   "cell_type": "code",
   "execution_count": null,
   "metadata": {},
   "outputs": [],
   "source": [
    "def DualSpace([vv1,vv2,vv3]):\n",
    "    return [vw1,vw2]\n",
    "\n",
    "def isOthogonal([vv1,vv2,vv3]):\n",
    "    return False\n",
    "\n",
    "def isOrthonormal([vv1,vv2,vv3]):\n",
    "    return False\n",
    "\n",
    "def GramSchmidt([vv1,vv2,vv3]):\n",
    "    return ([vw1,vw2,vw3])"
   ]
  }
 ],
 "metadata": {
  "kernelspec": {
   "display_name": "Python 3",
   "language": "python",
   "name": "python3"
  },
  "language_info": {
   "codemirror_mode": {
    "name": "ipython",
    "version": 3
   },
   "file_extension": ".py",
   "mimetype": "text/x-python",
   "name": "python",
   "nbconvert_exporter": "python",
   "pygments_lexer": "ipython3",
   "version": "3.8.5"
  }
 },
 "nbformat": 4,
 "nbformat_minor": 4
}
