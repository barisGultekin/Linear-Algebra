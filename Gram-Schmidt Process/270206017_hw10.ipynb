{
 "cells": [
  {
   "cell_type": "markdown",
   "metadata": {},
   "source": [
    "<h1> MATH265 Linear Algebra Homework 10</h1>\n",
    "\n",
    "---"
   ]
  },
  {
   "cell_type": "markdown",
   "metadata": {},
   "source": [
    "<h2>Standart Routines (non-Sage & Fractional)</h2>"
   ]
  },
  {
   "cell_type": "code",
   "execution_count": null,
   "metadata": {
    "jupyter": {
     "source_hidden": true
    }
   },
   "outputs": [],
   "source": [
    "from fractions import Fraction\n",
    "\n",
    "def fractionalMatrix(M):\n",
    "    res = []\n",
    "    for r in range(len(M)):\n",
    "        resRow = []\n",
    "        for c in range(len(M[r])):\n",
    "            resRow.append(Fraction(M[r][c]))\n",
    "        res.append(resRow)\n",
    "    return res\n",
    "\n",
    "def nPrint(M):\n",
    "    s = \"[\"\n",
    "    for r in range(len(M)):\n",
    "        s+=\"[\"\n",
    "        for c in range(len(M[r])):\n",
    "            t = str(M[r][c])\n",
    "            s+=t\n",
    "            if (c!=len(M[r])-1):\n",
    "                s+=\", \"\n",
    "\n",
    "        if (r!=len(M)-1):\n",
    "            s+=\"], \\n\"\n",
    "        else:\n",
    "            s+=\"]\"\n",
    "    s +=\"]\"\n",
    "    print(s)\n",
    "    return True"
   ]
  },
  {
   "cell_type": "code",
   "execution_count": null,
   "metadata": {
    "jupyter": {
     "source_hidden": true
    }
   },
   "outputs": [],
   "source": [
    "def MatrixDim(A):\n",
    "    #\n",
    "    # This function is supposed to return the dimensions of matrix A\n",
    "    #\n",
    "    M265rows = len(A)\n",
    "    if (M265rows <= 0):\n",
    "        return[-1,-1]\n",
    "    M265cols = len(A[0])\n",
    "    # we will check that this is indeed matrix i.e. number of cols in every row is the same\n",
    "    for i in range(M265rows):\n",
    "        if (len(A[i]) != M265cols):\n",
    "            return [-1,-1]\n",
    "    return [M265rows, M265cols]  \n",
    "\n",
    "\n",
    "\n",
    "def MatrixMult(A,B):\n",
    "    #\n",
    "    # This function should multiply the matrices A and B\n",
    "    # start by creating an empty array\n",
    "    [rowsA,colsA] = MatrixDim(A)\n",
    "    [rowsB,colsB] = MatrixDim(B)\n",
    "    if ((colsA != rowsB) and (colsA > 0)):\n",
    "        # if matrix multiplication cannot be done return an empty array\n",
    "        return []\n",
    "        \n",
    "    M265Result = [[0 for k in range(colsB)] for r in range(rowsA)]\n",
    "    for rw in range(rowsA):\n",
    "        for cl in range(colsB):\n",
    "            tmp =0\n",
    "            for k in range(colsA):\n",
    "                tmp = tmp + A[rw][k]*B[k][cl]\n",
    "            M265Result[rw][cl]=tmp\n",
    "    return M265Result"
   ]
  },
  {
   "cell_type": "code",
   "execution_count": 3,
   "metadata": {
    "jupyter": {
     "source_hidden": true
    }
   },
   "outputs": [],
   "source": [
    "def M265isEchelon(A):\n",
    "    #\n",
    "    # given a matrix A this function must check if the matrix is in Echelon form\n",
    "    # the function should return True if the matrix A is in Echelon form \n",
    "    # else the function should return false\n",
    "    #\n",
    "    M265_isEcheclon = False\n",
    "    [rowsA,colsA]=MatrixDim(A)\n",
    "    leading = [colsA+1+rw for rw in range(rowsA)]\n",
    "    for rw in range(rowsA):\n",
    "        for cl in range(colsA):\n",
    "            if (A[rw][cl] != 0):\n",
    "                leading[rw] = cl\n",
    "                break\n",
    "    M265_isEchelon = True\n",
    "    for rw in range(rowsA-1):\n",
    "        if (leading[rw] >= leading[rw+1]):\n",
    "            M265_isEchelon = False\n",
    "    return M265_isEchelon\n",
    "\n",
    "def M265isREch(A):\n",
    "    #\n",
    "    # given a matrix A this function returns an array with one negative\n",
    "    # value depending on which check failed if A is not in reduced Echelon form\n",
    "    # otherwise the result is an array of col positions of leading variables\n",
    "    [rowsA,colsA] = MatrixDim(A)\n",
    "    leading = [colsA+1+rw for rw in range(rowsA)]\n",
    "    posLeading = []\n",
    "    # first we find leading coefficients and check that those equal 1\n",
    "    for rw in range(rowsA):\n",
    "        for cl in range(colsA):\n",
    "            if (A[rw][cl] != 0):\n",
    "                leading[rw] = cl\n",
    "                if (A[rw][cl]!=1):\n",
    "                    return [-1]\n",
    "                posLeading.append(cl)\n",
    "                break\n",
    "    # second we check every leading variable is to the right of \n",
    "    # the leading variable in the above row\n",
    "    M265_isEchelon = True\n",
    "    for rw in range(rowsA-1):\n",
    "        if (leading[rw] >= leading[rw+1]):\n",
    "            M265_isEchelon = False\n",
    "    if (not M265_isEchelon):\n",
    "        return [-2]\n",
    "    # lastly we check that for a given leading variable the coefficients in any\n",
    "    # other equation for that variable is zero\n",
    "    for i in range(len(posLeading)):\n",
    "        for rw in range(rowsA):\n",
    "            if ((rw != i) and (A[rw][posLeading[i]]!=0)):\n",
    "                return [-3]\n",
    "    return posLeading\n",
    "    \n",
    "    \n",
    "def M265BackSubs(A,b):\n",
    "    #\n",
    "    # in this function you are supposed to solve a system of linear equations\n",
    "    # with matrix A and constant b\n",
    "    # the result should be an array of vectors M265_solSet\n",
    "    # the first entry of M265_solSet is a particular solution\n",
    "    # the remaining entries are vectors describing the homogeneous solution\n",
    "    #\n",
    "    ##################\n",
    "    #\n",
    "    # First let us create a vector for the particular solution\n",
    "    #\n",
    "    [rowsA,colsA] = MatrixDim(A)\n",
    "    if ((rowsA < 0) or (colsA<0)):\n",
    "        return []\n",
    "    if (len(b)!=rowsA):\n",
    "        return []\n",
    "    LPos = M265isREch(A)\n",
    "    #if (len(LPos)<=0):\n",
    "    #    return [-1]\n",
    "    M265_partSol = [0 for i in range(colsA)]\n",
    "    for i in range(len(LPos)):\n",
    "        M265_partSol[LPos[i]] = b[i]\n",
    "    if (len(LPos)<len(b)):\n",
    "        for i in range(len(LPos),len(b)):\n",
    "            if (b[i]!=0):\n",
    "                M265_partSol=[]\n",
    "        \n",
    "    M265_homgSol = [0 for i in range(len(A[0]))]\n",
    "    \n",
    "    Free=[0 for i in range(colsA - len(LPos))]\n",
    "    freePos =0\n",
    "    basicPos =0\n",
    "    for i in range(colsA):\n",
    "        if ((basicPos >= len(LPos)) or (i<LPos[basicPos]))  :\n",
    "            Free[freePos] = i\n",
    "            freePos+=1\n",
    "        else:\n",
    "            basicPos+=1\n",
    "\n",
    "    M265_homgSol = [[0 for c in range(colsA)] for i in range(len(Free))]\n",
    "\n",
    "    for c in range(len(Free)):\n",
    "        M265_homgSol[c][Free[c]]=1\n",
    "        for l in range(len(LPos)):\n",
    "            M265_homgSol[c][LPos[l]]=-A[l][Free[c]]\n",
    "            \n",
    "    return [M265_partSol,M265_homgSol]"
   ]
  },
  {
   "cell_type": "code",
   "execution_count": 4,
   "metadata": {
    "jupyter": {
     "source_hidden": true
    }
   },
   "outputs": [],
   "source": [
    "def M265Swap(rowi,rowj,order):\n",
    "    if ((rowi >= order) or (rowj>=order)):\n",
    "        return []\n",
    "    res = [[0 for i in range(order)] for j in range(order)]\n",
    "    for i in range(order):\n",
    "        res[i][i]=Fraction(1)\n",
    "    res[rowi][rowj]=Fraction(1)\n",
    "    res[rowj][rowi]=Fraction(1)\n",
    "    res[rowi][rowi]=Fraction(0)\n",
    "    res[rowj][rowj]=Fraction(0)\n",
    "    return res\n",
    "\n",
    "def M265cM(row,const,order):\n",
    "    if (row >= order):\n",
    "        return []\n",
    "    res = [[0 for i in range(order)] for j in range(order)]\n",
    "    for i in range(order):\n",
    "        res[i][i]=Fraction(1)\n",
    "    res[row][row]=const\n",
    "    return res\n",
    "\n",
    "def M265LC(rowi,rowj,const,order):\n",
    "    # set rowi as rowi+const*rowj\n",
    "    if ((rowi >= order) or (rowj>=order) or (rowi==rowj)):\n",
    "        return []\n",
    "    res = [[0 for i in range(order)] for j in range(order)]\n",
    "    for i in range(order):\n",
    "        res[i][i]=Fraction(1)\n",
    "    res[rowi][rowj]=const\n",
    "    return res\n",
    "\n",
    "def M265GaussianElimination(A,debug=False):\n",
    "    resEliminations = []\n",
    "    [rowsA,colsA]=MatrixDim(A)\n",
    "    order=rowsA\n",
    "    EP = [[0 for i in range(rowsA)] for j in range(rowsA)]\n",
    "    if (debug):\n",
    "        nPrint(A)\n",
    "    rw = 0\n",
    "    cl = 0\n",
    "    for c in range(colsA):\n",
    "        hasPivot = False\n",
    "        # first we check if the column under question has a pivot\n",
    "        for r in range(rw,rowsA):\n",
    "            if (A[r][cl]!=0):\n",
    "                hasPivot = True\n",
    "                if (r!=rw):\n",
    "                    EP =M265Swap(rw,r,order)\n",
    "                    A = MatrixMult(EP,A)\n",
    "                    resEliminations.append(EP)\n",
    "                    if (debug):\n",
    "                        print(\"\\n\")\n",
    "                        print(\"Swap row \",rw,\"with row\", r)\n",
    "                        nPrint(A)\n",
    "                break # if there is a pivot \n",
    "        if (hasPivot):\n",
    "            # if there is a pivot first scale it to one if the pivot is not one\n",
    "            if (A[rw][cl]!=1):\n",
    "                EP = M265cM(rw,1/A[rw][cl],order)       \n",
    "                resEliminations.append(EP)\n",
    "                A = MatrixMult(EP,A)\n",
    "                if (debug):\n",
    "                    print(\"\\n\")\n",
    "                    print(\"Scale row\", rw)\n",
    "                    nPrint(A)\n",
    "\n",
    "            # make the respective entries in the column zero except for the row that contains the pivot (r==rw)\n",
    "            # further if a row has already entry zero at that column skip that row as the resulting scaling\n",
    "            # is simply the identity matrix (A[r][cl]==0)\n",
    "            for r in range(rowsA):\n",
    "                if ((r==rw) or (A[r][cl]==0)):\n",
    "                    continue\n",
    "                EP = M265LC(r,rw,-1*A[r][cl],order)\n",
    "                resEliminations.append(EP)\n",
    "                A = MatrixMult(EP,A)\n",
    "                if(debug):\n",
    "                    print(\"\\n\")\n",
    "                    print(\"Add multiple of row\",rw,\"to row\",r )\n",
    "                    nPrint(A)\n",
    "            rw += 1 # if there was a pivot in this column for the remaining rows up we search for pivots\n",
    "            # only on rows that are below it\n",
    "        cl += 1\n",
    "    return resEliminations"
   ]
  },
  {
   "cell_type": "code",
   "execution_count": 5,
   "metadata": {
    "jupyter": {
     "source_hidden": true
    }
   },
   "outputs": [],
   "source": [
    "def transpose(inputMatrix):\n",
    "    outputMatrix = [[0 for _ in range(len(inputMatrix))] for _ in range(len(inputMatrix[0]))]\n",
    "    for i in range(len(outputMatrix)):\n",
    "        for j in range(len(outputMatrix[0])):\n",
    "            outputMatrix[i][j] = inputMatrix[j][i]\n",
    "    return outputMatrix\n",
    "\n",
    "def solve(M,c):\n",
    "    for elementaryMatrix in M265GaussianElimination(M):\n",
    "        M = MatrixMult(elementaryMatrix,M)\n",
    "        c = MatrixMult(elementaryMatrix,c)\n",
    "    return M265BackSubs(M,c)"
   ]
  },
  {
   "cell_type": "code",
   "execution_count": 6,
   "metadata": {
    "jupyter": {
     "source_hidden": true
    }
   },
   "outputs": [],
   "source": [
    "def DepDegree(M,vv):\n",
    "    k = 0\n",
    "    vector = []\n",
    "    zv = [0 for _ in range(len(vv))]\n",
    "    vector.append(vv)\n",
    "    \n",
    "    while True:\n",
    "        for i in range(k):\n",
    "            HomSol = solve(transpose(vector),zv)[1]\n",
    "            if HomSol:\n",
    "                return k-1\n",
    "            else:\n",
    "                vector.append(matrixVectorMult(M,vector[k-1]))\n",
    "                break\n",
    "        k += 1\n",
    "            \n",
    "def DepCoefs(M,vv):\n",
    "    isLinearlyIndependent = True\n",
    "    k = 0\n",
    "    vector = []\n",
    "    zv = [0 for _ in range(len(vv))]\n",
    "    vector.append(vv)\n",
    "    \n",
    "    while isLinearlyIndependent:\n",
    "        k += 1\n",
    "        for i in range(k):\n",
    "            HomSol = solve(transpose(vector),zv)[1]\n",
    "            if HomSol:\n",
    "                isLinearlyIndependent = False\n",
    "            else:\n",
    "                vector.append(matrixVectorMult(M,vector[k-1]))\n",
    "                break\n",
    "    coefMatrix = []\n",
    "    for i in range(k-1):\n",
    "        coefMatrix.append(vector[i])\n",
    "    constantVector = vector[k-1]\n",
    "    return solve(transpose(coefMatrix), constantVector)[0]"
   ]
  },
  {
   "cell_type": "code",
   "execution_count": 7,
   "metadata": {
    "jupyter": {
     "source_hidden": true
    }
   },
   "outputs": [],
   "source": [
    "def zeroMatrix(rows, cols):\n",
    "    M = []\n",
    "    while len(M) < rows:\n",
    "        M.append([])\n",
    "        while len(M[-1]) < cols:\n",
    "            M[-1].append(0.0)\n",
    "    return fractionalMatrix(M)\n",
    "\n",
    "def copyMatrix(M):\n",
    "    rows = len(M)\n",
    "    cols = len(M[0])\n",
    "    MC = zeroMatrix(rows, cols)\n",
    "\n",
    "    for i in range(rows):\n",
    "        for j in range(cols):\n",
    "            MC[i][j] = M[i][j]\n",
    "\n",
    "    return fractionalMatrix(MC)\n",
    "\n",
    "def identityMatrix(n):\n",
    "    IdM = zeroMatrix(n, n)\n",
    "    for i in range(n):\n",
    "        IdM[i][i] = 1.0\n",
    "    return fractionalMatrix(IdM)\n",
    "\n",
    "def matrixSubtraction(A, B):\n",
    "    rowsA = len(A)\n",
    "    colsA = len(A[0])\n",
    "    rowsB = len(B)\n",
    "    colsB = len(B[0])\n",
    "    if rowsA != rowsB or colsA != colsB:\n",
    "        print(\"Matrix is not symetric.\")\n",
    "        return False\n",
    "    C = zeroMatrix(rowsA, colsB)\n",
    "    for i in range(rowsA):\n",
    "        for j in range(colsB):\n",
    "            C[i][j] = A[i][j] - B[i][j]\n",
    "    return C\n",
    "\n",
    "def matrixScalarMult(A:list,c):\n",
    "    res = [[0 for _ in range(len(A))] for _ in range(len(A[0]))]\n",
    "    for i in range(len(A)):\n",
    "        for j in range(len(A[0])):\n",
    "            res[i][j] = A[i][j]*c\n",
    "    return res"
   ]
  },
  {
   "cell_type": "code",
   "execution_count": 8,
   "metadata": {
    "jupyter": {
     "source_hidden": true
    }
   },
   "outputs": [],
   "source": [
    "def DepDegree(M,vv):\n",
    "    k = 0\n",
    "    vector = []\n",
    "    zv = [0 for _ in range(len(vv))]\n",
    "    vector.append(vv)\n",
    "    \n",
    "    while True:\n",
    "        for i in range(k):\n",
    "            HomSol = solve(transpose(vector),zv)[1]\n",
    "            if HomSol:\n",
    "                return k-1\n",
    "            else:\n",
    "                vector.append(matrixVectorMult(M,vector[k-1]))\n",
    "                break\n",
    "        k += 1\n",
    "            \n",
    "def DepCoefs(M,vv):\n",
    "    isLinearlyIndependent = True\n",
    "    k = 0\n",
    "    vector = []\n",
    "    zv = [0 for _ in range(len(vv))]\n",
    "    vector.append(vv)\n",
    "    \n",
    "    while isLinearlyIndependent:\n",
    "        k += 1\n",
    "        for i in range(k):\n",
    "            HomSol = solve(transpose(vector),zv)[1]\n",
    "            if HomSol:\n",
    "                isLinearlyIndependent = False\n",
    "            else:\n",
    "                vector.append(matrixVectorMult(M,vector[k-1]))\n",
    "                break\n",
    "    coefMatrix = []\n",
    "    for i in range(k-1):\n",
    "        coefMatrix.append(vector[i])\n",
    "    constantVector = vector[k-1]\n",
    "    return solve(transpose(coefMatrix), constantVector)[0]"
   ]
  },
  {
   "cell_type": "code",
   "execution_count": 9,
   "metadata": {
    "jupyter": {
     "source_hidden": true
    }
   },
   "outputs": [],
   "source": [
    "def MatrixDeterminant(M):\n",
    "    res = 0\n",
    "    if len(M) != len(M[0]):\n",
    "        print(\"Matrix is not symetric.\")\n",
    "        return False\n",
    "    else:\n",
    "        if len(M) == 2 and len(M[0]) == 2:\n",
    "            resTbt = M[0][0] * M[1][1] - M[1][0] * M[0][1]\n",
    "            return resTbt\n",
    "        \n",
    "        for i in range(len(M)):\n",
    "            Ms = copyMatrix(M)\n",
    "            Ms = Ms[1:]\n",
    "            for j in range(len(Ms)):\n",
    "                Ms[j] = Ms[j][0:i] + Ms[j][i+1:]\n",
    "            sign = (-1) ** (i%2)\n",
    "            subDet = MatrixDeterminant(Ms)\n",
    "            res += sign * M[0][i] * subDet\n",
    "            i += 1\n",
    "        return res\n",
    "    \n",
    "def EigenValue(M):\n",
    "    pass\n",
    "\n",
    "def TestValue(M,lmbd):\n",
    "    return True\n",
    "\n",
    "def EigenSpace(M,lmbd):\n",
    "    if TestValue(M,lmbd):\n",
    "        I = identityMatrix(len(M))\n",
    "        ItL = matrixScalarMult(I, lmbd)\n",
    "        res = matrixSubtraction(M, ItL)\n",
    "        ultRes = solve(res, [[0] for _ in range(len(M))])[1]\n",
    "        return ultRes\n",
    "    else:\n",
    "        return False"
   ]
  },
  {
   "cell_type": "code",
   "execution_count": 10,
   "metadata": {
    "jupyter": {
     "source_hidden": true
    }
   },
   "outputs": [],
   "source": [
    "def isInvertible(MM):\n",
    "    return MatrixDeterminant(MM) != 0\n",
    "\n",
    "def zeroDivisor(MM):\n",
    "    zM = zeroMatrix(len(MM),len(MM[0]))\n",
    "    if not isInvertible(MM):\n",
    "        toSum = solve(MM, [[0] for _ in range(len(MM[0]))])[1]\n",
    "        for i in range(len(toSum)):\n",
    "            for j in range(len(toSum[0])):\n",
    "                zM[j][i] = toSum[i][j]\n",
    "    return zM\n",
    "\n",
    "def inverseMatrix(A, debug = False):\n",
    "    if isInvertible(A):\n",
    "        [rowsA,colsA]=MatrixDim(A) \n",
    "        order=rowsA\n",
    "        EP = [[0 for i in range(rowsA)] for j in range(rowsA)]\n",
    "        I = identityMatrix(rowsA)\n",
    "        if (debug):\n",
    "            nPrint(A)\n",
    "        rw = 0\n",
    "        cl = 0\n",
    "        for c in range(colsA):\n",
    "            hasPivot = False\n",
    "            for r in range(rw,rowsA):\n",
    "                if (A[r][cl]!=0):\n",
    "                    hasPivot = True\n",
    "                    if (r!=rw):\n",
    "                        EP =M265Swap(rw,r,order)\n",
    "                        A = MatrixMult(EP,A)\n",
    "                        I = MatrixMult(EP,I)\n",
    "                        if (debug):\n",
    "                            print(\"\\n\")\n",
    "                            print(\"Swap row \",rw,\"with row\", r)\n",
    "                            nPrint(A)\n",
    "                    break\n",
    "            if (hasPivot):\n",
    "                if (A[rw][cl]!=1):\n",
    "                    EP = M265cM(rw,1/A[rw][cl],order)       \n",
    "                    I = MatrixMult(EP,I)\n",
    "                    A = MatrixMult(EP,A)\n",
    "                    if (debug):\n",
    "                        print(\"\\n\")\n",
    "                        print(\"Scale row\", rw)\n",
    "                        nPrint(A)\n",
    "                for r in range(rowsA):\n",
    "                    if ((r==rw) or (A[r][cl]==0)):\n",
    "                        continue\n",
    "                    EP = M265LC(r,rw,-1*A[r][cl],order)\n",
    "                    I = MatrixMult(EP,I)\n",
    "                    A = MatrixMult(EP,A)\n",
    "                    if(debug):\n",
    "                        print(\"\\n\")\n",
    "                        print(\"Add multiple of row\",rw,\"to row\",r )\n",
    "                        nPrint(A)\n",
    "                rw += 1\n",
    "            cl += 1\n",
    "        return I\n",
    "\n",
    "def isDiagonalizable(MM,Eigenvalues):\n",
    "    eigenVectors = []\n",
    "    for eVal in Eigenvalues:\n",
    "        for eVec in EigenSpace(MM, eVal):\n",
    "            eigenVectors.append(eVec)\n",
    "    eigenVectors = transpose(eigenVectors)\n",
    "    return isInvertible(eigenVectors)\n",
    "\n",
    "def diagonalize(MM,Eigenvalues):\n",
    "    if isDiagonalizable(MM,Eigenvalues):\n",
    "        eigenVectors = []\n",
    "        for eVal in Eigenvalues:\n",
    "            for eVec in EigenSpace(MM, eVal):\n",
    "                eigenVectors.append(eVec)\n",
    "        eigenSpaces = transpose(eigenVectors)\n",
    "        res = MatrixMult(MatrixMult(inverseMatrix(eigenSpaces), MM), eigenSpaces)\n",
    "        return res"
   ]
  },
  {
   "cell_type": "code",
   "execution_count": 152,
   "metadata": {
    "jupyter": {
     "source_hidden": true
    }
   },
   "outputs": [],
   "source": [
    "def sqrt(n):\n",
    "    return n**(1/2)\n",
    "\n",
    "def dotProduct(K, L):\n",
    "    if len(K) != len(L):\n",
    "        return 0\n",
    "    return sum(i[0] * i[1] for i in zip(K, L))\n",
    "\n",
    "def vectorLength(v):\n",
    "    res = 0\n",
    "    for i in range(len(v)):\n",
    "        res += v[i]**2\n",
    "    return sqrt(res)"
   ]
  },
  {
   "cell_type": "markdown",
   "metadata": {},
   "source": [
    "---"
   ]
  },
  {
   "cell_type": "markdown",
   "metadata": {},
   "source": [
    "<h2>Stock</h2>"
   ]
  },
  {
   "cell_type": "code",
   "execution_count": 179,
   "metadata": {},
   "outputs": [],
   "source": [
    "myVectors = fractionalMatrix([[1,0,0],\n",
    "                              [0,1,0],\n",
    "                              [0,0,1]])"
   ]
  },
  {
   "cell_type": "markdown",
   "metadata": {},
   "source": [
    "<h1>Homework</h1>"
   ]
  },
  {
   "cell_type": "code",
   "execution_count": 180,
   "metadata": {},
   "outputs": [],
   "source": [
    "def DualSpace(inputVectors):\n",
    "    homSol = solve(transpose(inputVectors),[[0,0,0]])\n",
    "    if len(homSol) > 1:\n",
    "        return homSol[1]\n",
    "    else:\n",
    "        return []\n",
    "\n",
    "def isOrthogonal(inputVectors):\n",
    "    for i in range(0, len(inputVectors) - 1):\n",
    "        for j in range(i + 1, len(inputVectors)):\n",
    "            if dotProduct(inputVectors[i],inputVectors[j]) != 0:\n",
    "                return False\n",
    "    return True\n",
    "    \n",
    "def isOrthonormal(inputVectors):\n",
    "    if isOrthogonal(inputVectors):\n",
    "        for vec in range(len(inputVectors)):\n",
    "            if vectorLength(inputVectors[vec]) != 1:\n",
    "                return False\n",
    "        return True\n",
    "    else:\n",
    "        return False"
   ]
  },
  {
   "cell_type": "markdown",
   "metadata": {},
   "source": [
    "---"
   ]
  },
  {
   "cell_type": "code",
   "execution_count": 181,
   "metadata": {},
   "outputs": [
    {
     "data": {
      "text/plain": [
       "True"
      ]
     },
     "execution_count": 181,
     "metadata": {},
     "output_type": "execute_result"
    }
   ],
   "source": [
    "isOrthogonal(myVectors)"
   ]
  },
  {
   "cell_type": "code",
   "execution_count": 182,
   "metadata": {},
   "outputs": [
    {
     "data": {
      "text/plain": [
       "[]"
      ]
     },
     "execution_count": 182,
     "metadata": {},
     "output_type": "execute_result"
    }
   ],
   "source": [
    "DualSpace(myVectors)"
   ]
  },
  {
   "cell_type": "code",
   "execution_count": 183,
   "metadata": {},
   "outputs": [
    {
     "data": {
      "text/plain": [
       "True"
      ]
     },
     "execution_count": 183,
     "metadata": {},
     "output_type": "execute_result"
    }
   ],
   "source": [
    "isOrthonormal(myVectors)"
   ]
  },
  {
   "cell_type": "code",
   "execution_count": null,
   "metadata": {},
   "outputs": [],
   "source": []
  }
 ],
 "metadata": {
  "kernelspec": {
   "display_name": "Python 3",
   "language": "python",
   "name": "python3"
  },
  "language_info": {
   "codemirror_mode": {
    "name": "ipython",
    "version": 3
   },
   "file_extension": ".py",
   "mimetype": "text/x-python",
   "name": "python",
   "nbconvert_exporter": "python",
   "pygments_lexer": "ipython3",
   "version": "3.8.5"
  }
 },
 "nbformat": 4,
 "nbformat_minor": 4
}
