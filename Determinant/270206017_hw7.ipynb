{
 "cells": [
  {
   "cell_type": "markdown",
   "metadata": {},
   "source": [
    "<h1>Math 265 Linear Algebra Homework 7</h1>\n",
    "<h3>Determinant</h3>\n",
    "\n",
    "----"
   ]
  },
  {
   "cell_type": "markdown",
   "metadata": {},
   "source": [
    "<h2>Standard Routines (non-Sage)</h2>"
   ]
  },
  {
   "cell_type": "code",
   "execution_count": 2,
   "metadata": {},
   "outputs": [],
   "source": [
    "def MatrixDim(A):\n",
    "    M265rows = len(A)\n",
    "    if (M265rows <= 0):\n",
    "        return[-1,-1]\n",
    "    M265cols = len(A[0])\n",
    "    for i in range(M265rows):\n",
    "        if (len(A[i]) != M265cols):\n",
    "            return [-1,-1]\n",
    "    return [M265rows, M265cols] \n",
    "\n",
    "def nPrint(A):\n",
    "    for i in range(len(A)):\n",
    "        print(A[i])\n",
    "    return True\n",
    "\n",
    "def MatrixMult(A,B):\n",
    "    [rowsA,colsA] = MatrixDim(A)\n",
    "    [rowsB,colsB] = MatrixDim(B)\n",
    "    if ((colsA != rowsB) and (colsA > 0)):\n",
    "        return []\n",
    "        \n",
    "    M265Result = [[0 for k in range(colsB)] for r in range(rowsA)]\n",
    "    for rw in range(rowsA):\n",
    "        for cl in range(colsB):\n",
    "            tmp =0\n",
    "            for k in range(colsA):\n",
    "                tmp = tmp + A[rw][k]*B[k][cl]\n",
    "            M265Result[rw][cl]=tmp\n",
    "    return M265Result\n",
    "\n"
   ]
  },
  {
   "cell_type": "code",
   "execution_count": 3,
   "metadata": {
    "jupyter": {
     "source_hidden": true
    }
   },
   "outputs": [],
   "source": [
    "def M265isEchelon(A):\n",
    "    M265_isEcheclon = False\n",
    "    [rowsA,colsA]=MatrixDim(A)\n",
    "    leading = [colsA+1+rw for rw in range(rowsA)]\n",
    "    for rw in range(rowsA):\n",
    "        for cl in range(colsA):\n",
    "            if (A[rw][cl] != 0):\n",
    "                leading[rw] = cl\n",
    "                break\n",
    "    M265_isEchelon = True\n",
    "    for rw in range(rowsA-1):\n",
    "        if (leading[rw] >= leading[rw+1]):\n",
    "            M265_isEchelon = False\n",
    "    return M265_isEchelon\n",
    "\n",
    "def M265isREch(A):\n",
    "    [rowsA,colsA] = MatrixDim(A)\n",
    "    leading = [colsA+1+rw for rw in range(rowsA)]\n",
    "    posLeading = []\n",
    "    for rw in range(rowsA):\n",
    "        for cl in range(colsA):\n",
    "            if (A[rw][cl] != 0):\n",
    "                leading[rw] = cl\n",
    "                if (A[rw][cl]!=1):\n",
    "                    return [-1]\n",
    "                posLeading.append(cl)\n",
    "                break\n",
    "    M265_isEchelon = True\n",
    "    for rw in range(rowsA-1):\n",
    "        if (leading[rw] >= leading[rw+1]):\n",
    "            M265_isEchelon = False\n",
    "    if (not M265_isEchelon):\n",
    "        return [-2]\n",
    "    for i in range(len(posLeading)):\n",
    "        for rw in range(rowsA):\n",
    "            if ((rw != i) and (A[rw][posLeading[i]]!=0)):\n",
    "                return [-3]\n",
    "    return posLeading\n",
    "    \n",
    "    \n",
    "def M265BackSubs(A,b):\n",
    "    [rowsA,colsA] = MatrixDim(A)\n",
    "    if ((rowsA < 0) or (colsA<0)):\n",
    "        return []\n",
    "    if (len(b)!=rowsA):\n",
    "        return []\n",
    "    LPos = M265isREch(A)\n",
    "    M265_partSol = [0 for i in range(colsA)]\n",
    "    for i in range(len(LPos)):\n",
    "        M265_partSol[LPos[i]] = b[i]\n",
    "    if (len(LPos)<len(b)):\n",
    "        for i in range(len(LPos),len(b)):\n",
    "            if (b[i]>1e-10):\n",
    "                M265_partSol=[]\n",
    "        \n",
    "    M265_homgSol = [0 for i in range(len(A[0]))]\n",
    "    \n",
    "    Free=[0 for i in range(colsA - len(LPos))]\n",
    "    freePos =0\n",
    "    basicPos =0\n",
    "    for i in range(colsA):\n",
    "        if ((basicPos >= len(LPos)) or (i<LPos[basicPos]))  :\n",
    "            Free[freePos] = i\n",
    "            freePos+=1\n",
    "        else:\n",
    "            basicPos+=1\n",
    "\n",
    "    M265_homgSol = [[0 for c in range(colsA)] for i in range(len(Free))]\n",
    "\n",
    "    for c in range(len(Free)):\n",
    "        M265_homgSol[c][Free[c]]=1\n",
    "        for l in range(len(LPos)):\n",
    "            M265_homgSol[c][LPos[l]]=-A[l][Free[c]]\n",
    "            \n",
    "    return [M265_partSol,M265_homgSol]"
   ]
  },
  {
   "cell_type": "code",
   "execution_count": 4,
   "metadata": {
    "jupyter": {
     "source_hidden": true
    }
   },
   "outputs": [],
   "source": [
    "def M265Swap(rowi,rowj,order):\n",
    "    if ((rowi >= order) or (rowj>=order)):\n",
    "        return []\n",
    "    res = [[0 for i in range(order)] for j in range(order)]\n",
    "    for i in range(order):\n",
    "        res[i][i]=1\n",
    "    res[rowi][rowj]=1\n",
    "    res[rowj][rowi]=1\n",
    "    res[rowi][rowi]=0\n",
    "    res[rowj][rowj]=0\n",
    "    return res\n",
    "\n",
    "def M265cM(row,const,order):\n",
    "    if (row >= order):\n",
    "        return []\n",
    "    res = [[0 for i in range(order)] for j in range(order)]\n",
    "    for i in range(order):\n",
    "        res[i][i]=1\n",
    "    res[row][row]=const\n",
    "    return res\n",
    "\n",
    "def M265LC(rowi,rowj,const,order):\n",
    "    if ((rowi >= order) or (rowj>=order) or (rowi==rowj)):\n",
    "        return []\n",
    "    res = [[0 for i in range(order)] for j in range(order)]\n",
    "    for i in range(order):\n",
    "        res[i][i]=1\n",
    "    res[rowi][rowj]=const\n",
    "    return res\n",
    "\n",
    "def valueReturn(input):\n",
    "    value = input*1\n",
    "    return value\n",
    "\n",
    "def M265GaussianElimination(A,debug=False):\n",
    "    resEliminations = []\n",
    "    [rowsA,colsA]=MatrixDim(A)\n",
    "    order=rowsA\n",
    "    EP = [[0 for i in range(rowsA)] for j in range(rowsA)]\n",
    "    if (debug):\n",
    "        nPrint(A)\n",
    "    rw = 0\n",
    "    cl = 0\n",
    "    for c in range(colsA):\n",
    "        hasPivot = False\n",
    "        for r in range(rw,rowsA):\n",
    "            if (A[r][cl]!=0):\n",
    "                hasPivot = True\n",
    "                if (r!=rw):\n",
    "                    EP =M265Swap(rw,r,order)\n",
    "                    A = MatrixMult(EP,A)\n",
    "                    resEliminations.append(EP)\n",
    "                    if (debug):\n",
    "                        print(\"\\n\")\n",
    "                        print(\"Swap row \",rw,\"with row\", r)\n",
    "                        nPrint(A)\n",
    "                break\n",
    "        if (hasPivot):\n",
    "            if (A[rw][cl]!=1):\n",
    "                EP = M265cM(rw,1.0/A[rw][cl],order)       \n",
    "                resEliminations.append(EP)\n",
    "                A = MatrixMult(EP,A)\n",
    "                if (debug):\n",
    "                    print(\"\\n\")\n",
    "                    print(\"Scale row\", rw)\n",
    "                    nPrint(A)\n",
    "\n",
    "            for r in range(rowsA):\n",
    "                if ((r==rw) or (A[r][cl]==0)):\n",
    "                    continue\n",
    "                EP = M265LC(r,rw,-1.0*A[r][cl],order)\n",
    "                resEliminations.append(EP)\n",
    "                A = MatrixMult(EP,A)\n",
    "                if(debug):\n",
    "                    print(\"\\n\")\n",
    "                    print(\"Add multiple of row\",rw,\"to row\",r )\n",
    "                    nPrint(A)\n",
    "            rw += 1\n",
    "        cl += 1\n",
    "    return resEliminations"
   ]
  },
  {
   "cell_type": "code",
   "execution_count": 5,
   "metadata": {},
   "outputs": [],
   "source": [
    "def transpose(inputMatrix):\n",
    "    outputMatrix = [[0 for _ in range(len(inputMatrix))] for _ in range(len(inputMatrix[0]))]\n",
    "    for i in range(len(outputMatrix)):\n",
    "        for j in range(len(outputMatrix[0])):\n",
    "            outputMatrix[i][j] = inputMatrix[j][i]\n",
    "    return outputMatrix\n",
    "\n",
    "def solve(M,c):\n",
    "    for elementaryMatrix in M265GaussianElimination(M):\n",
    "        M = MatrixMult(elementaryMatrix,M)\n",
    "        c = matrixVectorMult(elementaryMatrix,c)\n",
    "    return M265BackSubs(M,c)"
   ]
  },
  {
   "cell_type": "code",
   "execution_count": 6,
   "metadata": {},
   "outputs": [],
   "source": [
    "def matrixVectorMult(M,v):\n",
    "    result = [0 for k in range(len(v))]\n",
    "    for i in range(len(M)):\n",
    "        for j in range(len(M[0])):\n",
    "            temp = 0\n",
    "            for k in range(len(v)):\n",
    "                temp = temp + M[i][k]*v[k]\n",
    "            result[i] = temp\n",
    "    return result"
   ]
  },
  {
   "cell_type": "markdown",
   "metadata": {},
   "source": [
    "---\n",
    "<h1>Homework</h1>"
   ]
  },
  {
   "cell_type": "markdown",
   "metadata": {},
   "source": [
    "<h2>Some nice matrices</h2>"
   ]
  },
  {
   "cell_type": "markdown",
   "metadata": {},
   "source": [
    "<h3>$3\\times 3$ matrices</h3>"
   ]
  },
  {
   "cell_type": "code",
   "execution_count": 7,
   "metadata": {},
   "outputs": [
    {
     "name": "stdout",
     "output_type": "stream",
     "text": [
      "[5, -8, -4]\n",
      "[3, -5, -2]\n",
      "[-4, 7, 3]\n",
      "=======\n",
      "[-3, -2, -8, 1]\n",
      "[-2, 0, -5, 1]\n",
      "[0, -1, -1, 0]\n",
      "[0, -5, 0, -2]\n"
     ]
    },
    {
     "data": {
      "text/plain": [
       "True"
      ]
     },
     "execution_count": 7,
     "metadata": {},
     "output_type": "execute_result"
    }
   ],
   "source": [
    "M3 = [[5,-8,-4],\n",
    "      [3,-5,-2],\n",
    "      [-4,7,3]]\n",
    "\n",
    "M4 = [[-3, -2, -8,  1],\n",
    "      [-2,  0, -5,  1],\n",
    "      [ 0, -1, -1,  0],\n",
    "      [ 0, -5,  0, -2]]\n",
    "\n",
    "nPrint(M3)\n",
    "print(\"=======\")\n",
    "nPrint(M4)"
   ]
  },
  {
   "cell_type": "markdown",
   "metadata": {},
   "source": [
    "<h2>Restrictions</h2>\n",
    "<p>You may run the sage kernel or any other kernel of your choice. However, beyond the Standard Routines provided at the top of this notebook no other function calls are allowed from the sage (or any other library).</p>\n",
    "<p>If you cannot run sage, please update the above routines with the solutions I've provided for the first homework and use those instead. You are welcome to contact me for further information if that is the case.</p>"
   ]
  },
  {
   "cell_type": "markdown",
   "metadata": {},
   "source": [
    "<h2>Linear dependence</h2>\n",
    "In the homework $M$ denotes a square matrix of order $d$ and  $\\vec{v} = vv$ a vector with $d$ components that is different from the zero vector (i.e. $\\vec{v}\\ne \\vec{0}$).\n",
    "\n",
    "Consider the sequence $\\vec{v}_0 = \\vec{v}$, $\\vec{v}_1 = M\\vec{v}_0\\dots$ defined recursively $$\\vec{v}_{i+1} = M\\vec{v}_i$$. Since all vectors lie in the same $d$-dimensional vector space then there is a smallest integer $k$ such that the set $\\vec{v}_0,\\dots\\vec{v}_{k}$ is linearly dependent but any set  $\\vec{v}_0,\\dots\\vec{v}_{j}$ with $j<k$ is linearly independent. With that in mind it is necessarily the case that in the equation $$\\alpha_0\\vec{v}_0 + \\alpha_1\\vec{v}_1+\\cdots+\\alpha_{k-1}\\vec{v}_{k-1}+\\alpha_{k}\\vec{v}_k =\\vec{0}$$ the coefficient $\\alpha_k\\ne 0$.\n",
    "\n",
    "Your tasks are:\n",
    "<dl>\n",
    "    <dt>DepDegree(M,vv)</dt>\n",
    "    <dd>Given a matrix $M$ and a vector $vv$ return the value $k$ described above.</dd> \n",
    "    <dt>DepCoefs(M,vv)</dt>\n",
    "    <dd>Given a matrix $M$ and a vector $vv$ return the values $\\frac{\\alpha_0}{\\alpha_k},\\dots,\\frac{\\alpha_{k-1}}{\\alpha_k}$ in a list.</dd>\n",
    "</dl>\n",
    "<h2>Remarks</h2>\n",
    "When you program your routines your routines <em>must not</em> use Python's print function in <em>any</em> form. Your functions should simply return the above values."
   ]
  },
  {
   "cell_type": "code",
   "execution_count": 8,
   "metadata": {},
   "outputs": [],
   "source": [
    "M1 = [[1,1,1],\n",
    "     [1,1,1],\n",
    "     [1,1,1]]\n",
    "vv1 = [1,1,1]\n",
    "\n",
    "M2 = [[-3, -2, -8, 1], \n",
    "      [-2, 0, -5, 1], \n",
    "      [0, -1, -1, 0], \n",
    "      [0, -5, 0, -2]]\n",
    "vv2 = [1, 1, 1, 1]"
   ]
  },
  {
   "cell_type": "code",
   "execution_count": 9,
   "metadata": {},
   "outputs": [],
   "source": [
    "def DepDegree(M,vv):\n",
    "    k = 0\n",
    "    vector = []\n",
    "    zv = [0 for _ in range(len(vv))]\n",
    "    vector.append(vv)\n",
    "    \n",
    "    while True:\n",
    "        for i in range(k):\n",
    "            HomSol = solve(transpose(vector),zv)[1]\n",
    "            if HomSol:\n",
    "                return k-1\n",
    "            else:\n",
    "                vector.append(matrixVectorMult(M,vector[k-1]))\n",
    "                break\n",
    "        k += 1\n",
    "            \n",
    "def DepCoefs(M,vv):\n",
    "    isLinearlyIndependent = True\n",
    "    k = 0\n",
    "    vector = []\n",
    "    zv = [0 for _ in range(len(vv))]\n",
    "    vector.append(vv)\n",
    "    \n",
    "    while isLinearlyIndependent:\n",
    "        k += 1\n",
    "        for i in range(k):\n",
    "            HomSol = solve(transpose(vector),zv)[1]\n",
    "            if HomSol:\n",
    "                isLinearlyIndependent = False\n",
    "            else:\n",
    "                vector.append(matrixVectorMult(M,vector[k-1]))\n",
    "                break\n",
    "    coefMatrix = []\n",
    "    for i in range(k-1):\n",
    "        coefMatrix.append(vector[i])\n",
    "    constantVector = vector[k-1]\n",
    "    return solve(transpose(coefMatrix), constantVector)[0]"
   ]
  },
  {
   "cell_type": "code",
   "execution_count": 10,
   "metadata": {},
   "outputs": [
    {
     "data": {
      "text/plain": [
       "4"
      ]
     },
     "execution_count": 10,
     "metadata": {},
     "output_type": "execute_result"
    }
   ],
   "source": [
    "DepDegree(M2,vv2)"
   ]
  },
  {
   "cell_type": "code",
   "execution_count": 11,
   "metadata": {},
   "outputs": [
    {
     "data": {
      "text/plain": [
       "[1.0, 5.0, -7.0, -6.0]"
      ]
     },
     "execution_count": 11,
     "metadata": {},
     "output_type": "execute_result"
    }
   ],
   "source": [
    "DepCoefs(M2,vv2)"
   ]
  },
  {
   "cell_type": "code",
   "execution_count": 15,
   "metadata": {},
   "outputs": [],
   "source": [
    "M3 = [[-67,116,48],[-25,44,18],[-35,59,25]]\n",
    "\n",
    "vv0 = [[1,0,1]]\n",
    "vv1 = MatrixMult(M3,vv0)\n",
    "vv2 = MatrixMult(M3,vv1)\n",
    "vv3 = MatrixMult(M3,vv2)"
   ]
  },
  {
   "cell_type": "code",
   "execution_count": 17,
   "metadata": {},
   "outputs": [
    {
     "ename": "TypeError",
     "evalue": "unsupported operand type(s) for /: 'float' and 'list'",
     "output_type": "error",
     "traceback": [
      "\u001b[0;31m---------------------------------------------------------------------------\u001b[0m",
      "\u001b[0;31mTypeError\u001b[0m                                 Traceback (most recent call last)",
      "\u001b[0;32m<ipython-input-17-719736022a5b>\u001b[0m in \u001b[0;36m<module>\u001b[0;34m\u001b[0m\n\u001b[0;32m----> 1\u001b[0;31m \u001b[0mDepCoefs\u001b[0m\u001b[0;34m(\u001b[0m\u001b[0mtranspose\u001b[0m\u001b[0;34m(\u001b[0m\u001b[0mM3\u001b[0m\u001b[0;34m)\u001b[0m\u001b[0;34m,\u001b[0m\u001b[0mvv0\u001b[0m\u001b[0;34m)\u001b[0m\u001b[0;34m\u001b[0m\u001b[0;34m\u001b[0m\u001b[0m\n\u001b[0m",
      "\u001b[0;32m<ipython-input-9-9fb6aadc7d5a>\u001b[0m in \u001b[0;36mDepCoefs\u001b[0;34m(M, vv)\u001b[0m\n\u001b[1;32m     25\u001b[0m         \u001b[0mk\u001b[0m \u001b[0;34m+=\u001b[0m \u001b[0;36m1\u001b[0m\u001b[0;34m\u001b[0m\u001b[0;34m\u001b[0m\u001b[0m\n\u001b[1;32m     26\u001b[0m         \u001b[0;32mfor\u001b[0m \u001b[0mi\u001b[0m \u001b[0;32min\u001b[0m \u001b[0mrange\u001b[0m\u001b[0;34m(\u001b[0m\u001b[0mk\u001b[0m\u001b[0;34m)\u001b[0m\u001b[0;34m:\u001b[0m\u001b[0;34m\u001b[0m\u001b[0;34m\u001b[0m\u001b[0m\n\u001b[0;32m---> 27\u001b[0;31m             \u001b[0mHomSol\u001b[0m \u001b[0;34m=\u001b[0m \u001b[0msolve\u001b[0m\u001b[0;34m(\u001b[0m\u001b[0mtranspose\u001b[0m\u001b[0;34m(\u001b[0m\u001b[0mvector\u001b[0m\u001b[0;34m)\u001b[0m\u001b[0;34m,\u001b[0m\u001b[0mzv\u001b[0m\u001b[0;34m)\u001b[0m\u001b[0;34m[\u001b[0m\u001b[0;36m1\u001b[0m\u001b[0;34m]\u001b[0m\u001b[0;34m\u001b[0m\u001b[0;34m\u001b[0m\u001b[0m\n\u001b[0m\u001b[1;32m     28\u001b[0m             \u001b[0;32mif\u001b[0m \u001b[0mHomSol\u001b[0m\u001b[0;34m:\u001b[0m\u001b[0;34m\u001b[0m\u001b[0;34m\u001b[0m\u001b[0m\n\u001b[1;32m     29\u001b[0m                 \u001b[0misLinearlyIndependent\u001b[0m \u001b[0;34m=\u001b[0m \u001b[0;32mFalse\u001b[0m\u001b[0;34m\u001b[0m\u001b[0;34m\u001b[0m\u001b[0m\n",
      "\u001b[0;32m<ipython-input-5-413499f962e4>\u001b[0m in \u001b[0;36msolve\u001b[0;34m(M, c)\u001b[0m\n\u001b[1;32m      7\u001b[0m \u001b[0;34m\u001b[0m\u001b[0m\n\u001b[1;32m      8\u001b[0m \u001b[0;32mdef\u001b[0m \u001b[0msolve\u001b[0m\u001b[0;34m(\u001b[0m\u001b[0mM\u001b[0m\u001b[0;34m,\u001b[0m\u001b[0mc\u001b[0m\u001b[0;34m)\u001b[0m\u001b[0;34m:\u001b[0m\u001b[0;34m\u001b[0m\u001b[0;34m\u001b[0m\u001b[0m\n\u001b[0;32m----> 9\u001b[0;31m     \u001b[0;32mfor\u001b[0m \u001b[0melementaryMatrix\u001b[0m \u001b[0;32min\u001b[0m \u001b[0mM265GaussianElimination\u001b[0m\u001b[0;34m(\u001b[0m\u001b[0mM\u001b[0m\u001b[0;34m)\u001b[0m\u001b[0;34m:\u001b[0m\u001b[0;34m\u001b[0m\u001b[0;34m\u001b[0m\u001b[0m\n\u001b[0m\u001b[1;32m     10\u001b[0m         \u001b[0mM\u001b[0m \u001b[0;34m=\u001b[0m \u001b[0mMatrixMult\u001b[0m\u001b[0;34m(\u001b[0m\u001b[0melementaryMatrix\u001b[0m\u001b[0;34m,\u001b[0m\u001b[0mM\u001b[0m\u001b[0;34m)\u001b[0m\u001b[0;34m\u001b[0m\u001b[0;34m\u001b[0m\u001b[0m\n\u001b[1;32m     11\u001b[0m         \u001b[0mc\u001b[0m \u001b[0;34m=\u001b[0m \u001b[0mmatrixVectorMult\u001b[0m\u001b[0;34m(\u001b[0m\u001b[0melementaryMatrix\u001b[0m\u001b[0;34m,\u001b[0m\u001b[0mc\u001b[0m\u001b[0;34m)\u001b[0m\u001b[0;34m\u001b[0m\u001b[0;34m\u001b[0m\u001b[0m\n",
      "\u001b[0;32m<ipython-input-4-12cf524eb1de>\u001b[0m in \u001b[0;36mM265GaussianElimination\u001b[0;34m(A, debug)\u001b[0m\n\u001b[1;32m     58\u001b[0m         \u001b[0;32mif\u001b[0m \u001b[0;34m(\u001b[0m\u001b[0mhasPivot\u001b[0m\u001b[0;34m)\u001b[0m\u001b[0;34m:\u001b[0m\u001b[0;34m\u001b[0m\u001b[0;34m\u001b[0m\u001b[0m\n\u001b[1;32m     59\u001b[0m             \u001b[0;32mif\u001b[0m \u001b[0;34m(\u001b[0m\u001b[0mA\u001b[0m\u001b[0;34m[\u001b[0m\u001b[0mrw\u001b[0m\u001b[0;34m]\u001b[0m\u001b[0;34m[\u001b[0m\u001b[0mcl\u001b[0m\u001b[0;34m]\u001b[0m\u001b[0;34m!=\u001b[0m\u001b[0;36m1\u001b[0m\u001b[0;34m)\u001b[0m\u001b[0;34m:\u001b[0m\u001b[0;34m\u001b[0m\u001b[0;34m\u001b[0m\u001b[0m\n\u001b[0;32m---> 60\u001b[0;31m                 \u001b[0mEP\u001b[0m \u001b[0;34m=\u001b[0m \u001b[0mM265cM\u001b[0m\u001b[0;34m(\u001b[0m\u001b[0mrw\u001b[0m\u001b[0;34m,\u001b[0m\u001b[0;36m1.0\u001b[0m\u001b[0;34m/\u001b[0m\u001b[0mA\u001b[0m\u001b[0;34m[\u001b[0m\u001b[0mrw\u001b[0m\u001b[0;34m]\u001b[0m\u001b[0;34m[\u001b[0m\u001b[0mcl\u001b[0m\u001b[0;34m]\u001b[0m\u001b[0;34m,\u001b[0m\u001b[0morder\u001b[0m\u001b[0;34m)\u001b[0m\u001b[0;34m\u001b[0m\u001b[0;34m\u001b[0m\u001b[0m\n\u001b[0m\u001b[1;32m     61\u001b[0m                 \u001b[0mresEliminations\u001b[0m\u001b[0;34m.\u001b[0m\u001b[0mappend\u001b[0m\u001b[0;34m(\u001b[0m\u001b[0mEP\u001b[0m\u001b[0;34m)\u001b[0m\u001b[0;34m\u001b[0m\u001b[0;34m\u001b[0m\u001b[0m\n\u001b[1;32m     62\u001b[0m                 \u001b[0mA\u001b[0m \u001b[0;34m=\u001b[0m \u001b[0mMatrixMult\u001b[0m\u001b[0;34m(\u001b[0m\u001b[0mEP\u001b[0m\u001b[0;34m,\u001b[0m\u001b[0mA\u001b[0m\u001b[0;34m)\u001b[0m\u001b[0;34m\u001b[0m\u001b[0;34m\u001b[0m\u001b[0m\n",
      "\u001b[0;31mTypeError\u001b[0m: unsupported operand type(s) for /: 'float' and 'list'"
     ]
    }
   ],
   "source": [
    "DepCoefs(M3,vv0)"
   ]
  },
  {
   "cell_type": "markdown",
   "metadata": {},
   "source": [
    "\\\n",
    "<h1> QUIZ 5 </h1>\n",
    "\n",
    "---"
   ]
  },
  {
   "cell_type": "code",
   "execution_count": 24,
   "metadata": {},
   "outputs": [],
   "source": [
    "A = [[3,3,9],\n",
    "     [0,3,3]]\n",
    "\n",
    "c = [12,3]"
   ]
  },
  {
   "cell_type": "code",
   "execution_count": 20,
   "metadata": {},
   "outputs": [
    {
     "data": {
      "text/plain": [
       "[[3.0, 1.0, 0], [[-2.0, -1.0, 1]]]"
      ]
     },
     "execution_count": 20,
     "metadata": {},
     "output_type": "execute_result"
    }
   ],
   "source": [
    "solve(A,c)"
   ]
  },
  {
   "cell_type": "code",
   "execution_count": 27,
   "metadata": {},
   "outputs": [
    {
     "data": {
      "text/plain": [
       "[0, 0, 0]"
      ]
     },
     "execution_count": 27,
     "metadata": {},
     "output_type": "execute_result"
    }
   ],
   "source": [
    "matrixVectorMult(A,b)"
   ]
  },
  {
   "cell_type": "code",
   "execution_count": 29,
   "metadata": {},
   "outputs": [],
   "source": [
    "from fractions import Fraction"
   ]
  },
  {
   "cell_type": "code",
   "execution_count": 30,
   "metadata": {},
   "outputs": [],
   "source": [
    "t = Fraction(\"3/2\")"
   ]
  },
  {
   "cell_type": "code",
   "execution_count": 33,
   "metadata": {},
   "outputs": [
    {
     "name": "stdout",
     "output_type": "stream",
     "text": [
      "2/3\n"
     ]
    }
   ],
   "source": [
    "print(1/t)"
   ]
  },
  {
   "cell_type": "code",
   "execution_count": 41,
   "metadata": {},
   "outputs": [],
   "source": [
    "T = [[-11,-7,-5],\n",
    "     [2,1,2],\n",
    "     [-1,-1,1]]\n",
    "\n",
    "b0 = [-4,1,0]\n",
    "\n",
    "b1 = [3,0,1]\n",
    "\n",
    "basis = [[-4,1,0],\n",
    "         [3,0,1]]"
   ]
  },
  {
   "cell_type": "code",
   "execution_count": 42,
   "metadata": {},
   "outputs": [
    {
     "data": {
      "text/plain": [
       "[[-7.0, 3.0], []]"
      ]
     },
     "execution_count": 42,
     "metadata": {},
     "output_type": "execute_result"
    }
   ],
   "source": [
    "solve(transpose(basis),matrixVectorMult(T,b0))"
   ]
  },
  {
   "cell_type": "code",
   "execution_count": 43,
   "metadata": {},
   "outputs": [
    {
     "data": {
      "text/plain": [
       "[[8.0, -2.0], []]"
      ]
     },
     "execution_count": 43,
     "metadata": {},
     "output_type": "execute_result"
    }
   ],
   "source": [
    "solve(transpose(basis),matrixVectorMult(T,b1))"
   ]
  },
  {
   "cell_type": "code",
   "execution_count": 44,
   "metadata": {},
   "outputs": [],
   "source": [
    "T = [[4,2],\n",
    "     [0,6]]\n",
    "\n",
    "b0 = [[1,0],\n",
    "      [0,0]]\n",
    "\n",
    "b1 = [[1,1],\n",
    "      [0,0]]\n",
    "\n",
    "b2 =[[0,0],\n",
    "     [0,1]]"
   ]
  },
  {
   "cell_type": "code",
   "execution_count": 49,
   "metadata": {},
   "outputs": [
    {
     "name": "stdout",
     "output_type": "stream",
     "text": [
      "[4, 0]\n",
      "[0, 0]\n",
      "----\n",
      "[4, 4]\n",
      "[0, 0]\n",
      "----\n",
      "[0, 2]\n",
      "[0, 6]\n"
     ]
    },
    {
     "data": {
      "text/plain": [
       "True"
      ]
     },
     "execution_count": 49,
     "metadata": {},
     "output_type": "execute_result"
    }
   ],
   "source": [
    "nPrint(MatrixMult(T,b0))\n",
    "print(\"----\")\n",
    "nPrint(MatrixMult(T,b1))\n",
    "print(\"----\")\n",
    "nPrint(MatrixMult(T,b2))"
   ]
  },
  {
   "cell_type": "code",
   "execution_count": null,
   "metadata": {},
   "outputs": [],
   "source": []
  }
 ],
 "metadata": {
  "kernelspec": {
   "display_name": "Python 3",
   "language": "python",
   "name": "python3"
  },
  "language_info": {
   "codemirror_mode": {
    "name": "ipython",
    "version": 3
   },
   "file_extension": ".py",
   "mimetype": "text/x-python",
   "name": "python",
   "nbconvert_exporter": "python",
   "pygments_lexer": "ipython3",
   "version": "3.8.5"
  }
 },
 "nbformat": 4,
 "nbformat_minor": 4
}
