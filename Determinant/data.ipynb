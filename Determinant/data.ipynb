{
 "cells": [
  {
   "cell_type": "markdown",
   "metadata": {},
   "source": [
    "<h2>Some nice matrices</h2>"
   ]
  },
  {
   "cell_type": "markdown",
   "metadata": {},
   "source": [
    "<h3>$3\\times 3$ matrices</h3>"
   ]
  },
  {
   "cell_type": "code",
   "execution_count": 4,
   "metadata": {},
   "outputs": [
    {
     "data": {
      "text/plain": [
       "(\n",
       "            [-3 -2 -8  1]\n",
       "[ 5 -8 -4]  [-2  0 -5  1]\n",
       "[ 3 -5 -2]  [ 0 -1 -1  0]\n",
       "[-4  7  3], [ 0 -5  0 -2]\n",
       ")"
      ]
     },
     "execution_count": 4,
     "metadata": {},
     "output_type": "execute_result"
    }
   ],
   "source": [
    "M3 = Matrix(KK,[[5,-8,-4],[3,-5,-2],[-4,7,3]])\n",
    "M4 = Matrix(KK, [\\\n",
    "                 [-3, -2, -8,  1],\\\n",
    "                 [-2,  0, -5,  1],\\\n",
    "                 [ 0, -1, -1,  0],\\\n",
    "                 [ 0, -5,  0, -2]])\n",
    "M3, M4"
   ]
  },
  {
   "cell_type": "markdown",
   "metadata": {},
   "source": [
    "<h1>Homework</h1>"
   ]
  },
  {
   "cell_type": "markdown",
   "metadata": {},
   "source": [
    "<h2>Restrictions</h2>\n",
    "<p>You may run the sage kernel or any other kernel of your choice. However, beyond the Standard Routines provided at the top of this notebook no other function calls are allowed from the sage (or any other library).</p>\n",
    "<p>If you cannot run sage, please update the above routines with the solutions I've provided for the first homework and use those instead. You are welcome to contact me for further information if that is the case.</p>"
   ]
  },
  {
   "cell_type": "markdown",
   "metadata": {},
   "source": [
    "<h2>Linear dependence</h2>\n",
    "In the homework $M$ denotes a square matrix of order $d$ and  $\\vec{v} = vv$ a vector with $d$ components that is different from the zero vector (i.e. $\\vec{v}\\ne \\vec{0}$).\n",
    "\n",
    "Consider the sequence $\\vec{v}_0 = \\vec{v}$, $\\vec{v}_1 = M\\vec{v}_0\\dots$ defined recursively $$\\vec{v}_{i+1} = M\\vec{v}_i$$. Since all vectors lie in the same $d$-dimensional vector space then there is a smallest integer $k$ such that the set $\\vec{v}_0,\\dots\\vec{v}_{k}$ is linearly dependent but any set  $\\vec{v}_0,\\dots\\vec{v}_{j}$ with $j<k$ is linearly independent. With that in mind it is necessarily the case that in the equation $$\\alpha_0\\vec{v}_0 + \\alpha_1\\vec{v}_1+\\cdots+\\alpha_{k-1}\\vec{v}_{k-1}+\\alpha_{k}\\vec{v}_k =\\vec{0}$$ the coefficient $\\alpha_k\\ne 0$.\n",
    "\n",
    "Your tasks are:\n",
    "<dl>\n",
    "    <dt>DepDegree(M,vv)</dt>\n",
    "    <dd>Given a matrix $M$ and a vector $vv$ return the value $k$ described above.</dd> \n",
    "    <dt>DepCoefs(M,vv)</dt>\n",
    "    <dd>Given a matrix $M$ and a vector $vv$ return the values $\\frac{\\alpha_0}{\\alpha_k},\\dots,\\frac{\\alpha_{k-1}}{\\alpha_k}$ in a list.</dd>\n",
    "</dl>\n",
    "<h2>Remarks</h2>\n",
    "When you program your routines your routines <em>must not</em> use Python's print function in <em>any</em> form. Your functions should simply return the above values."
   ]
  },
  {
   "cell_type": "code",
   "execution_count": null,
   "metadata": {},
   "outputs": [],
   "source": [
    "def DepDegree(M,vv):\n",
    "    return 0\n",
    "\n",
    "def DepDegree(M,vv):\n",
    "    return []\n"
   ]
  },
  {
   "cell_type": "code",
   "execution_count": null,
   "metadata": {},
   "outputs": [],
   "source": [
    "def determinant_recursive(A, total=0):\n",
    "    # Section 1: store indices in list for row referencing\n",
    "    indices = list(range(len(A)))\n",
    "     \n",
    "    # Section 2: when at 2x2 submatrices recursive calls end\n",
    "    if len(A) == 2 and len(A[0]) == 2:\n",
    "        val = A[0][0] * A[1][1] - A[1][0] * A[0][1]\n",
    "        return val\n",
    " \n",
    "    # Section 3: define submatrix for focus column and \n",
    "    #      call this function\n",
    "    for fc in indices: # A) for each focus column, ...\n",
    "        # find the submatrix ...\n",
    "        As = copy_matrix(A) # B) make a copy, and ...\n",
    "        As = As[1:] # ... C) remove the first row\n",
    "        height = len(As) # D) \n",
    " \n",
    "        for i in range(height): \n",
    "            # E) for each remaining row of submatrix ...\n",
    "            #     remove the focus column elements\n",
    "            As[i] = As[i][0:fc] + As[i][fc+1:] \n",
    " \n",
    "        sign = (-1) ** (fc % 2) # F) \n",
    "        # G) pass submatrix recursively\n",
    "        sub_det = determinant_recursive(As)\n",
    "        # H) total all returns from recursion\n",
    "        total += sign * A[0][fc] * sub_det \n",
    " \n",
    "    return total"
   ]
  }
 ],
 "metadata": {
  "kernelspec": {
   "display_name": "Python 3",
   "language": "python",
   "name": "python3"
  },
  "language_info": {
   "codemirror_mode": {
    "name": "ipython",
    "version": 3
   },
   "file_extension": ".py",
   "mimetype": "text/x-python",
   "name": "python",
   "nbconvert_exporter": "python",
   "pygments_lexer": "ipython3",
   "version": "3.8.5"
  }
 },
 "nbformat": 4,
 "nbformat_minor": 4
}
