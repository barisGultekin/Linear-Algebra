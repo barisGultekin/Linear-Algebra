{
 "cells": [
  {
   "cell_type": "markdown",
   "metadata": {},
   "source": [
    "<h1>Math 265 Linear Algebra Homework 5</h1>\n",
    "\n",
    "----"
   ]
  },
  {
   "cell_type": "markdown",
   "metadata": {},
   "source": [
    "<h3>Standard Routines (non-Sage)</h3>"
   ]
  },
  {
   "cell_type": "code",
   "execution_count": 1,
   "metadata": {},
   "outputs": [],
   "source": [
    "def MatrixDim(A):\n",
    "    M265rows = len(A)\n",
    "    if (M265rows <= 0):\n",
    "        return[-1,-1]\n",
    "    M265cols = len(A[0])\n",
    "    for i in range(M265rows):\n",
    "        if (len(A[i]) != M265cols):\n",
    "            return [-1,-1]\n",
    "    return [M265rows, M265cols]  \n",
    "\n",
    "def nPrint(A):\n",
    "    for i in range(len(A)):\n",
    "        print(A[i])\n",
    "    return True\n",
    "\n",
    "def MatrixMult(A,B):\n",
    "    [rowsA,colsA] = MatrixDim(A)\n",
    "    [rowsB,colsB] = MatrixDim(B)\n",
    "    if ((colsA != rowsB) and (colsA > 0)):\n",
    "        return []\n",
    "        \n",
    "    M265Result = [[0 for k in range(colsB)] for r in range(rowsA)]\n",
    "    for rw in range(rowsA):\n",
    "        for cl in range(colsB):\n",
    "            tmp =0\n",
    "            for k in range(colsA):\n",
    "                tmp = tmp + A[rw][k]*B[k][cl]\n",
    "            M265Result[rw][cl]=tmp\n",
    "    return M265Result"
   ]
  },
  {
   "cell_type": "code",
   "execution_count": 2,
   "metadata": {},
   "outputs": [],
   "source": [
    "def M265isEchelon(A):\n",
    "    M265_isEcheclon = False\n",
    "    [rowsA,colsA]=MatrixDim(A)\n",
    "    leading = [colsA+1+rw for rw in range(rowsA)]\n",
    "    for rw in range(rowsA):\n",
    "        for cl in range(colsA):\n",
    "            if (A[rw][cl] != 0):\n",
    "                leading[rw] = cl\n",
    "                break\n",
    "    M265_isEchelon = True\n",
    "    for rw in range(rowsA-1):\n",
    "        if (leading[rw] >= leading[rw+1]):\n",
    "            M265_isEchelon = False\n",
    "    return M265_isEchelon\n",
    "\n",
    "def M265isREch(A):\n",
    "    [rowsA,colsA] = MatrixDim(A)\n",
    "    leading = [colsA+1+rw for rw in range(rowsA)]\n",
    "    posLeading = []\n",
    "    for rw in range(rowsA):\n",
    "        for cl in range(colsA):\n",
    "            if (A[rw][cl] != 0):\n",
    "                leading[rw] = cl\n",
    "                if (A[rw][cl]!=1):\n",
    "                    return [-1]\n",
    "                posLeading.append(cl)\n",
    "                break\n",
    "    M265_isEchelon = True\n",
    "    for rw in range(rowsA-1):\n",
    "        if (leading[rw] >= leading[rw+1]):\n",
    "            M265_isEchelon = False\n",
    "    if (not M265_isEchelon):\n",
    "        return [-2]\n",
    "    for i in range(len(posLeading)):\n",
    "        for rw in range(rowsA):\n",
    "            if ((rw != i) and (A[rw][posLeading[i]]!=0)):\n",
    "                return [-3]\n",
    "    return posLeading\n",
    "    \n",
    "    \n",
    "def M265BackSubs(A,b):\n",
    "    [rowsA,colsA] = MatrixDim(A)\n",
    "    if ((rowsA < 0) or (colsA<0)):\n",
    "        return []\n",
    "    if (len(b)!=rowsA):\n",
    "        return []\n",
    "    LPos = M265isREch(A)\n",
    "    M265_partSol = [0 for i in range(colsA)]\n",
    "    for i in range(len(LPos)):\n",
    "        M265_partSol[LPos[i]] = b[i]\n",
    "    if (len(LPos)<len(b)):\n",
    "        for i in range(len(LPos),len(b)):\n",
    "            if (b[i]>1e-10):\n",
    "                M265_partSol=[]\n",
    "        \n",
    "    M265_homgSol = [0 for i in range(len(A[0]))]\n",
    "    \n",
    "    Free=[0 for i in range(colsA - len(LPos))]\n",
    "    freePos =0\n",
    "    basicPos =0\n",
    "    for i in range(colsA):\n",
    "        if ((basicPos >= len(LPos)) or (i<LPos[basicPos]))  :\n",
    "            Free[freePos] = i\n",
    "            freePos+=1\n",
    "        else:\n",
    "            basicPos+=1\n",
    "\n",
    "    M265_homgSol = [[0 for c in range(colsA)] for i in range(len(Free))]\n",
    "\n",
    "    for c in range(len(Free)):\n",
    "        M265_homgSol[c][Free[c]]=1\n",
    "        for l in range(len(LPos)):\n",
    "            M265_homgSol[c][LPos[l]]=-A[l][Free[c]]\n",
    "            \n",
    "    return [M265_partSol,M265_homgSol]"
   ]
  },
  {
   "cell_type": "code",
   "execution_count": 3,
   "metadata": {},
   "outputs": [],
   "source": [
    "def M265Swap(rowi,rowj,order):\n",
    "    if ((rowi >= order) or (rowj>=order)):\n",
    "        return []\n",
    "    res = [[0 for i in range(order)] for j in range(order)]\n",
    "    for i in range(order):\n",
    "        res[i][i]=1\n",
    "    res[rowi][rowj]=1\n",
    "    res[rowj][rowi]=1\n",
    "    res[rowi][rowi]=0\n",
    "    res[rowj][rowj]=0\n",
    "    return res\n",
    "\n",
    "def M265cM(row,const,order):\n",
    "    if (row >= order):\n",
    "        return []\n",
    "    res = [[0 for i in range(order)] for j in range(order)]\n",
    "    for i in range(order):\n",
    "        res[i][i]=1\n",
    "    res[row][row]=const\n",
    "    return res\n",
    "\n",
    "def M265LC(rowi,rowj,const,order):\n",
    "    if ((rowi >= order) or (rowj>=order) or (rowi==rowj)):\n",
    "        return []\n",
    "    res = [[0 for i in range(order)] for j in range(order)]\n",
    "    for i in range(order):\n",
    "        res[i][i]=1\n",
    "    res[rowi][rowj]=const\n",
    "    return res\n",
    "\n",
    "def M265GaussianElimination(A,debug=False):\n",
    "    resEliminations = []\n",
    "    [rowsA,colsA]=MatrixDim(A)\n",
    "    order=rowsA\n",
    "    EP = [[0 for i in range(rowsA)] for j in range(rowsA)]\n",
    "    if (debug):\n",
    "        nPrint(A)\n",
    "    rw = 0\n",
    "    cl = 0\n",
    "    for c in range(colsA):\n",
    "        hasPivot = False\n",
    "        for r in range(rw,rowsA):\n",
    "            if (A[r][cl]!=0):\n",
    "                hasPivot = True\n",
    "                if (r!=rw):\n",
    "                    EP =M265Swap(rw,r,order)\n",
    "                    A = MatrixMult(EP,A)\n",
    "                    resEliminations.append(EP)\n",
    "                    if (debug):\n",
    "                        print(\"\\n\")\n",
    "                        print(\"Swap row \",rw,\"with row\", r)\n",
    "                        nPrint(A)\n",
    "                break\n",
    "        if (hasPivot):\n",
    "            if (A[rw][cl]!=1):\n",
    "                EP = M265cM(rw,1.0/A[rw][cl],order)       \n",
    "                resEliminations.append(EP)\n",
    "                A = MatrixMult(EP,A)\n",
    "                if (debug):\n",
    "                    print(\"\\n\")\n",
    "                    print(\"Scale row\", rw)\n",
    "                    nPrint(A)\n",
    "\n",
    "            for r in range(rowsA):\n",
    "                if ((r==rw) or (A[r][cl]==0)):\n",
    "                    continue\n",
    "                EP = M265LC(r,rw,-1.0*A[r][cl],order)\n",
    "                resEliminations.append(EP)\n",
    "                A = MatrixMult(EP,A)\n",
    "                if(debug):\n",
    "                    print(\"\\n\")\n",
    "                    print(\"Add multiple of row\",rw,\"to row\",r )\n",
    "                    nPrint(A)\n",
    "            rw += 1\n",
    "        cl += 1\n",
    "    return resEliminations"
   ]
  },
  {
   "cell_type": "code",
   "execution_count": 4,
   "metadata": {},
   "outputs": [],
   "source": [
    "def transpose(inputMatrix):\n",
    "    outputMatrix = [[0 for _ in range(len(inputMatrix))] for _ in range(len(inputMatrix[0]))]\n",
    "    for i in range(len(outputMatrix)):\n",
    "        for j in range(len(outputMatrix[0])):\n",
    "            outputMatrix[i][j] = inputMatrix[j][i]\n",
    "    return outputMatrix"
   ]
  },
  {
   "cell_type": "code",
   "execution_count": 5,
   "metadata": {},
   "outputs": [],
   "source": [
    "def solve(M,c):\n",
    "    for elementaryMatrix in M265GaussianElimination(M):\n",
    "        M = MatrixMult(elementaryMatrix,M)\n",
    "        c = MatrixMult(elementaryMatrix,c)\n",
    "        \n",
    "    return M265BackSubs(M,c)\n",
    "    "
   ]
  },
  {
   "cell_type": "markdown",
   "metadata": {},
   "source": [
    "---\n",
    "<h1>Vector Space</h1>"
   ]
  },
  {
   "cell_type": "markdown",
   "metadata": {},
   "source": [
    "<h2>CVS: Vector Addition</h2>\n",
    "$$u\\oplus v \n",
    " = \\left(\\begin{array}{c} x\\\\y\\\\z\\end{array}\\right)\n",
    "     \\oplus \\left(\\begin{array}{c} s\\\\t\\\\r\\end{array}\\right)\n",
    " = \\left(\\begin{array}{c} x+s-2\\\\y+t\\\\z+r+4\\end{array}\\right)$$"
   ]
  },
  {
   "cell_type": "markdown",
   "metadata": {},
   "source": [
    "<h2>CVS: Scalar Vector Multiplication</h2>\n",
    "$$\\alpha \\odot \\vec{u}\n",
    "    =\\alpha \\odot\\left(\\begin{array}{c} x\\\\y\\\\z\\end{array}\\right)\n",
    "    =\\left(\\begin{array}{c} \n",
    "            \\alpha x-2\\alpha +2\n",
    "            \\\\\\alpha y\n",
    "            \\\\\\alpha z +4\\alpha - 4\\end{array}\\right)$$"
   ]
  },
  {
   "cell_type": "markdown",
   "metadata": {},
   "source": [
    "<h2>CVS implementations</h2>"
   ]
  },
  {
   "cell_type": "code",
   "execution_count": 6,
   "metadata": {},
   "outputs": [],
   "source": [
    "def CVSadd(m1,m2):\n",
    "    return [m1[0] + m2[0] - 2, m1[1] + m2[1], m1[2] + m2[2] + 4]\n",
    "\n",
    "def CVSmul(a,m):\n",
    "    return [(a*m[0])-(2*a)+2, a*m[1], (a*m[2])-(4*a)-4]"
   ]
  },
  {
   "cell_type": "markdown",
   "metadata": {},
   "source": [
    "---\n",
    "<h1>Homework tasks</h1>"
   ]
  },
  {
   "cell_type": "markdown",
   "metadata": {},
   "source": [
    "<h2>Restrictions</h2>\n",
    "<p>You may run the sage kernel or any other kernel of your choice. However, beyond the Standard Routines provided at the top of this notebook no other function calls are allowed from the sage (or any other library).</p>\n",
    "<p>If you cannot run sage, please update the above routines with the solutions I've provided for the first homework and use those instead. You are welcome to contact me for further information if that is the case.</p>"
   ]
  },
  {
   "cell_type": "markdown",
   "metadata": {},
   "source": [
    "<h2>CVS task</h2>\n",
    "<p>For this part of the homework you have to write a function that takes as input a three times three matrix CVSBasis and a vector CVSvector. You will treat the rows of CVSBasis as an ordered basis for CVS. The vector CVSvector will naturally be a linear combinations of the rows of M (as a vector in CVS). The function must return a three dimensional vector that is the representation of v in basis M.</p>\n",
    "<p>As an example: if you have basis Basis = Matrix(KK,[[0,0,0],[0,1,0],[2,0,0]]) and CVSv=vector(KK,[0,-1,16]) then\n",
    "<code>CVScoord(Basis,CVSv)</code>\n",
    "    should return <code>[2,-1,4]</code></p>"
   ]
  },
  {
   "cell_type": "code",
   "execution_count": 7,
   "metadata": {},
   "outputs": [],
   "source": [
    "zv = [2,0,-4] #Negative of the zero vector.\n",
    "\n",
    "def CVScoord(CVSBasis,CVSvector):\n",
    "    coefMatrix = transpose([[CVSBasis[0][0]-zv[0],CVSBasis[0][1]-zv[1],CVSBasis[0][2]-zv[2]],\n",
    "                      [CVSBasis[1][0]-zv[0],CVSBasis[1][1]-zv[1],CVSBasis[1][2]-zv[2]],\n",
    "                      [CVSBasis[2][0]-zv[0],CVSBasis[2][1]-zv[1],CVSBasis[2][2]-zv[2]]])\n",
    "    \n",
    "    constantVector = [[CVSvector[0]-zv[0]],[CVSvector[1]-zv[1]],[CVSvector[2]-zv[2]]]\n",
    "\n",
    "    for elementaryMatrix in M265GaussianElimination(coefMatrix):\n",
    "        coefMatrix = MatrixMult(elementaryMatrix,coefMatrix)\n",
    "        constantVector = MatrixMult(elementaryMatrix,constantVector)\n",
    "    \n",
    "    return M265BackSubs(coefMatrix,[constantVector[0][0],constantVector[1][0],constantVector[2][0]])[0]"
   ]
  },
  {
   "cell_type": "code",
   "execution_count": 8,
   "metadata": {},
   "outputs": [
    {
     "data": {
      "text/plain": [
       "[2.0, -1.0, 4.0]"
      ]
     },
     "execution_count": 8,
     "metadata": {},
     "output_type": "execute_result"
    }
   ],
   "source": [
    "CVScoord([[0,0,0],[0,1,0],[2,0,0]],[0,-1,16])"
   ]
  },
  {
   "cell_type": "markdown",
   "metadata": {},
   "source": [
    "<h2>Polynomials task</h2>\n",
    "This tasks resembls the task above: you are given a matrix MPols that is $dim\\times deg$ matrix. Each row represents a polynomial of degree at most $deg$, where MPols[i][k] is the $i$th's polynomial coeficient in front of $x^k$. You are also given another polynomial $px$ of degree at most $deg$ again represented as a vector, where component $i$ of the vector is the coeffcient in front of $x^i$ of $px$. The function PolTest(MPols,px) should return True if $px$ is in the span of MPols[i] and False otherwise. The function PolCoor(MPols,px) should call PolTest and if PolTest returns True then PolCoor must return the coordinates of Px in basis MPols. If PolTest returns False PolCoor should return an empty array []."
   ]
  },
  {
   "cell_type": "code",
   "execution_count": 9,
   "metadata": {},
   "outputs": [],
   "source": [
    "#PolTest and PolCoor are implemented together\n",
    "\n",
    "def PolCoor(MPols,px):\n",
    "    coefMatrix = [[0 for _ in range(len(MPols))] for _ in range(len(MPols[0]))]\n",
    "    \n",
    "    for i in range(len(MPols)):\n",
    "        for j in range(len(MPols[0])):\n",
    "            coefMatrix[j][i] = MPols[i][j]\n",
    "    \n",
    "    pxFixed = []\n",
    "    \n",
    "    for index in range(len(px)):\n",
    "        pxFixed.append([px[index]])\n",
    "    \n",
    "    for elementaryMatrix in M265GaussianElimination(coefMatrix):\n",
    "        coefMatrix = MatrixMult(elementaryMatrix,coefMatrix)\n",
    "        pxFixed = MatrixMult(elementaryMatrix,pxFixed)\n",
    "    \n",
    "    for index in range(len(px)):\n",
    "        px[index] = pxFixed[index][0]\n",
    "     \n",
    "    res = M265BackSubs(coefMatrix,px)[0]\n",
    "    \n",
    "    if not res:\n",
    "        return False, []\n",
    "    else:\n",
    "        return True, res"
   ]
  },
  {
   "cell_type": "code",
   "execution_count": 10,
   "metadata": {},
   "outputs": [
    {
     "data": {
      "text/plain": [
       "(True, [-8.0, -7.0, 7.0])"
      ]
     },
     "execution_count": 10,
     "metadata": {},
     "output_type": "execute_result"
    }
   ],
   "source": [
    "MatrixPols = [[3, -4, -2, -2, -1], [-4, 0, -4, -3, -4], [0, -2, 0, 1, 2]]\n",
    "g13 = [4, 18, 44, 44, 50]\n",
    "PolCoor(MatrixPols, g13)"
   ]
  },
  {
   "cell_type": "code",
   "execution_count": null,
   "metadata": {},
   "outputs": [],
   "source": []
  }
 ],
 "metadata": {
  "kernelspec": {
   "display_name": "Python 3",
   "language": "python",
   "name": "python3"
  },
  "language_info": {
   "codemirror_mode": {
    "name": "ipython",
    "version": 3
   },
   "file_extension": ".py",
   "mimetype": "text/x-python",
   "name": "python",
   "nbconvert_exporter": "python",
   "pygments_lexer": "ipython3",
   "version": "3.8.5"
  }
 },
 "nbformat": 4,
 "nbformat_minor": 4
}
