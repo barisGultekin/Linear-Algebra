{
 "cells": [
  {
   "cell_type": "markdown",
   "metadata": {},
   "source": [
    "<h1>Standard Routines</h1>"
   ]
  },
  {
   "cell_type": "code",
   "execution_count": 1,
   "metadata": {},
   "outputs": [],
   "source": [
    "# Let us first define the numbers we will work with. Note the use of KK when defining\n",
    "# both matrices and vectors. Details aside it will make output numbers look nice if you set\n",
    "# KK equal QQ. Other possible options are RR, CC, QQ, QQbar; here QQbar is another nice option\n",
    "KK = QQ\n",
    "\n",
    "# To define a Matrix extend the example below. \n",
    "EM = Matrix(KK,[[1,2,3,4],[5,6,7,8]])\n",
    "\n",
    "# To define a vector extend the example below. \n",
    "# Note unlike the definition of a Matrix defining vector uses lower case \"v\"\n",
    "Ev = vector(KK,[5,9])\n",
    "\n",
    "def GetEch(M265Matrix):\n",
    "    # given a matrix defined as above the function returns the echelon form of the matrix\n",
    "    return M265Matrix.echelon_form()\n",
    "\n",
    "def HomSol(M265Matrix):\n",
    "    # obtain the homogeneous solution set of SLE with matrix M265Matrix\n",
    "    return M265Matrix.right_kernel_matrix()\n",
    "\n",
    "def ParSol(M265Matrix,M265Vector):\n",
    "    # obtain a particular solutino to SLE with matrix M265Matrix and vector of constant M265Vector\n",
    "    (rw,cl)=M265Matrix.dimensions()\n",
    "    if(rw!=len(M265Vector)):\n",
    "        print(\"dimension error\")\n",
    "    try:\n",
    "        return M265Matrix.solve_right(M265Vector)\n",
    "    except ValueError:\n",
    "        #if ValueError occurs there is not solution but instead of raising the error we return\n",
    "        # the empty set\n",
    "        return []\n",
    "    return False\n",
    "    \n",
    "def GetERO(M265Mtrx,debug=False):\n",
    "    # get one list of elemetary operations that reduce a matrix to Reduced Echelon Form\n",
    "    resEliminations = []\n",
    "    [Rw,Cl]=M265Mtrx.dimensions()\n",
    "    if (debug):\n",
    "        print(M265Mtrx)\n",
    "    rw = 0\n",
    "    cl = 0\n",
    "    for c in range(Cl):\n",
    "        hasPivot = False\n",
    "        # first we check if the column under question has a pivot\n",
    "        for r in range(rw,Rw):\n",
    "            if (M265Mtrx[r][cl]!=0):\n",
    "                hasPivot = True\n",
    "                if (r!=rw):\n",
    "                    EO = identity_matrix(KK,Rw)\n",
    "                    EO.swap_rows(rw,r)\n",
    "                    resEliminations.append(EO)\n",
    "                    M265Mtrx.swap_rows(rw,r)\n",
    "                    if (debug):\n",
    "                        print(\"\\n\")\n",
    "                        print(\"Swap row \",rw,\"with row\", r)\n",
    "                        print(M265Mtrx)\n",
    "                break # if there is a pivot \n",
    "        if (hasPivot):\n",
    "            # if there is a pivot first scale it to one if the pivot is not one\n",
    "            if (M265Mtrx[rw][cl]!= KK(1)):\n",
    "                EO=identity_matrix(KK,Rw)\n",
    "                EO.rescale_row(rw,KK(1)/M265Mtrx[rw][cl])\n",
    "                resEliminations.append(EO)\n",
    "                M265Mtrx=resEliminations[-1]*M265Mtrx\n",
    "                if (debug):\n",
    "                    print(\"\\n\")\n",
    "                    print(\"Scale row\", rw)\n",
    "                    print(M265Mtrx)\n",
    "\n",
    "            # make the respective entries in the column zero except for the row that contains the pivot (r==rw)\n",
    "            # further if a row has already entry zero at that column skip that row as the resulting scaling\n",
    "            # is simply the identity matrix (M265Mtrx[r][cl]==0)\n",
    "            for r in range(Rw):\n",
    "                if ((r==rw) or (M265Mtrx[r][cl]==0)):\n",
    "                    continue\n",
    "                EO = identity_matrix(KK,Rw)\n",
    "                EO.add_multiple_of_row(r,rw,-M265Mtrx[r][cl])\n",
    "                resEliminations.append(EO)\n",
    "                #M265Mtrx = M265Mtrx.add_multiple_of_row(r,rw,-M265Mtrx[r][cl])\n",
    "                M265Mtrx=resEliminations[-1]*M265Mtrx\n",
    "                if(debug):\n",
    "                    print(\"\\n\")\n",
    "                    print(\"M265Mtrxdd multiple of row\",rw,\"to row\",r )\n",
    "                    print(M265Mtrx)\n",
    "            rw += 1 # if there was a pivot in this column for the remaining rows up we search for pivots\n",
    "            # only on rows that are below it\n",
    "        cl += 1\n",
    "    return resEliminations"
   ]
  },
  {
   "cell_type": "markdown",
   "metadata": {},
   "source": [
    "<h1>Crazy Vector Space</h1>"
   ]
  },
  {
   "cell_type": "markdown",
   "metadata": {},
   "source": [
    "<h2>CVS: Vector Addition</h2>\n",
    "$$u\\oplus v \n",
    " = \\left(\\begin{array}{c} x\\\\y\\\\z\\end{array}\\right)\n",
    "     \\oplus \\left(\\begin{array}{c} s\\\\t\\\\r\\end{array}\\right)\n",
    " = \\left(\\begin{array}{c} x+s-2\\\\y+t\\\\z+r+4\\end{array}\\right)$$"
   ]
  },
  {
   "cell_type": "markdown",
   "metadata": {},
   "source": [
    "<h2>CVS: Scalar Vector Multiplication</h2>\n",
    "$$\\alpha \\odot \\vec{u}\n",
    "    =\\alpha \\odot\\left(\\begin{array}{c} x\\\\y\\\\z\\end{array}\\right)\n",
    "    =\\left(\\begin{array}{c} \n",
    "            \\alpha x-2\\alpha +2\n",
    "            \\\\\\alpha y\n",
    "            \\\\\\alpha z +4\\alpha - 4\\end{array}\\right)$$"
   ]
  },
  {
   "cell_type": "markdown",
   "metadata": {},
   "source": [
    "<h2>CVS implementations</h2>"
   ]
  },
  {
   "cell_type": "code",
   "execution_count": 1,
   "metadata": {},
   "outputs": [
    {
     "ename": "NameError",
     "evalue": "name 'vector' is not defined",
     "output_type": "error",
     "traceback": [
      "\u001b[0;31m---------------------------------------------------------------------------\u001b[0m",
      "\u001b[0;31mNameError\u001b[0m                                 Traceback (most recent call last)",
      "\u001b[0;32m<ipython-input-1-64894e0d500e>\u001b[0m in \u001b[0;36m<module>\u001b[0;34m\u001b[0m\n\u001b[0;32m----> 1\u001b[0;31m \u001b[0mCVSzero\u001b[0m \u001b[0;34m=\u001b[0m \u001b[0mvector\u001b[0m\u001b[0;34m(\u001b[0m\u001b[0mKK\u001b[0m\u001b[0;34m,\u001b[0m\u001b[0;34m[\u001b[0m\u001b[0;36m2\u001b[0m\u001b[0;34m,\u001b[0m\u001b[0;36m0\u001b[0m\u001b[0;34m,\u001b[0m\u001b[0;34m-\u001b[0m\u001b[0;36m4\u001b[0m\u001b[0;34m]\u001b[0m\u001b[0;34m)\u001b[0m\u001b[0;34m\u001b[0m\u001b[0;34m\u001b[0m\u001b[0m\n\u001b[0m\u001b[1;32m      2\u001b[0m \u001b[0;34m\u001b[0m\u001b[0m\n\u001b[1;32m      3\u001b[0m \u001b[0;32mdef\u001b[0m \u001b[0mCVSadd\u001b[0m\u001b[0;34m(\u001b[0m\u001b[0mv1\u001b[0m\u001b[0;34m,\u001b[0m\u001b[0mv2\u001b[0m\u001b[0;34m)\u001b[0m\u001b[0;34m:\u001b[0m\u001b[0;34m\u001b[0m\u001b[0;34m\u001b[0m\u001b[0m\n\u001b[1;32m      4\u001b[0m     \u001b[0;32mreturn\u001b[0m \u001b[0mv1\u001b[0m \u001b[0;34m+\u001b[0m \u001b[0mv2\u001b[0m \u001b[0;34m-\u001b[0m \u001b[0mCVSzero\u001b[0m\u001b[0;34m\u001b[0m\u001b[0;34m\u001b[0m\u001b[0m\n\u001b[1;32m      5\u001b[0m \u001b[0;34m\u001b[0m\u001b[0m\n",
      "\u001b[0;31mNameError\u001b[0m: name 'vector' is not defined"
     ]
    }
   ],
   "source": [
    "CVSzero = vector(KK,[2,0,-4])\n",
    "\n",
    "def CVSadd(v1,v2):\n",
    "    return v1 + v2 - CVSzero\n",
    "\n",
    "def CVSmul(a,v1):\n",
    "    return(a*(v1-CVSzero)+CVSzero)"
   ]
  },
  {
   "cell_type": "markdown",
   "metadata": {},
   "source": [
    "<h1>Homework tasks</h1>"
   ]
  },
  {
   "cell_type": "markdown",
   "metadata": {},
   "source": [
    "<h2>Restrictions</h2>\n",
    "<p>You may run the sage kernel or any other kernel of your choice. However, beyond the Standard Routines provided at the top of this notebook no other function calls are allowed from the sage (or any other library).</p>\n",
    "<p>If you cannot run sage, please update the above routines with the solutions I've provided for the first homework and use those instead. You are welcome to contact me for further information if that is the case.</p>"
   ]
  },
  {
   "cell_type": "markdown",
   "metadata": {},
   "source": [
    "<h2>CVS task</h2>\n",
    "<p>For this part of the homework you have to write a function that takes as input a three times three matrix CVSBasis and a vector CVSvector. You will treat the rows of CVSBasis as an ordered basis for CVS. The vector CVSvector will naturally be a linear combinations of the rows of M (as a vector in CVS). The function must return a three dimensional vector that is the representation of v in basis M.</p>\n",
    "<p>As an example: if you have basis Basis= Matrix(KK,[[0,0,0],[0,1,0],[2,0,0]]) and CVSv=vector(KK,[0,-1,16]) then\n",
    "<code>CVScoord(Basis,CVSv)</code>\n",
    "    should return <code>[2,-1,4]</code></p>"
   ]
  },
  {
   "cell_type": "code",
   "execution_count": 1,
   "metadata": {},
   "outputs": [],
   "source": [
    "def CVScoord(CVSBasis,CVSvector):\n",
    "    res = vector(KK,[0,0,0])\n",
    "    return res\n",
    "    "
   ]
  },
  {
   "cell_type": "markdown",
   "metadata": {},
   "source": [
    "<h2>Polynomials task</h2>\n",
    "This tasks resembels the task above: you are given a matrix MPols that is $dim\\times deg$ matrix. Each row represents a polynomial of degree at most $deg$, where MPols[i][k] is the $i$th's polynomial coeficient in front of $x^k$. You are also given another polynomial $px$ of degree at most $deg$ again represented as a vector, where component $i$ of the vector is the coeffcient in front of $x^i$ of $px$. The function PolTest(MPols,px) should return True if $px$ is in the span of MPols[i] and False otherwise. The function PolCoor(MPols,px) should call PolTest and if PolTest returns True then PolCoor must return the coordinates of Px in basis MPols. If PolTest returns False PolCoor should return an empty array []."
   ]
  },
  {
   "cell_type": "code",
   "execution_count": 2,
   "metadata": {},
   "outputs": [],
   "source": [
    "def PolTest(MPols,px):\n",
    "    return True\n",
    "def PolCoor(MPols,px):\n",
    "    res = vector(KK,[0,0,0])\n",
    "    if (not PolTest(MPols,px)):\n",
    "        return []\n",
    "    return res"
   ]
  },
  {
   "cell_type": "code",
   "execution_count": null,
   "metadata": {},
   "outputs": [],
   "source": []
  }
 ],
 "metadata": {
  "kernelspec": {
   "display_name": "Python 3",
   "language": "python",
   "name": "python3"
  },
  "language_info": {
   "codemirror_mode": {
    "name": "ipython",
    "version": 3
   },
   "file_extension": ".py",
   "mimetype": "text/x-python",
   "name": "python",
   "nbconvert_exporter": "python",
   "pygments_lexer": "ipython3",
   "version": "3.8.5"
  }
 },
 "nbformat": 4,
 "nbformat_minor": 4
}
