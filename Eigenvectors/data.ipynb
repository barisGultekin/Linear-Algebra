{
 "cells": [
  {
   "cell_type": "markdown",
   "metadata": {},
   "source": [
    "<h1>Homework</h1>"
   ]
  },
  {
   "cell_type": "markdown",
   "metadata": {},
   "source": [
    "<h2>Restrictions</h2>\n",
    "<p>You may run the sage kernel or any other kernel of your choice. However, beyond the Standard Routines provided at the top of this notebook no other function calls are allowed from the sage (or any other library).</p>\n",
    "<p>If you cannot run sage, please update the above routines with the solutions I've provided for the first homework and use those instead. You are welcome to contact me for further information if that is the case.</p>"
   ]
  },
  {
   "cell_type": "markdown",
   "metadata": {},
   "source": [
    "<h2>Linear dependence</h2>\n",
    "In the homework $M$ denotes a square matrix of order $d$ and  $\\vec{v} = vv$ a vector with $d$ components that is different from the zero vector (i.e. $\\vec{v}\\ne \\vec{0}$).\n",
    "\n",
    "Consider the sequence $\\vec{v}_0 = \\vec{v}$, $\\vec{v}_1 = M\\vec{v}_0\\dots$ defined recursively $$\\vec{v}_{i+1} = M\\vec{v}_i$$. Since all vectors lie in the same $d$-dimensional vector space then there is a smallest integer $k$ such that the set $\\vec{v}_0,\\dots\\vec{v}_{k}$ is linearly dependent but any set  $\\vec{v}_0,\\dots\\vec{v}_{j}$ with $j<k$ is linearly independent. With that in mind it is necessarily the case that in the equation $$\\alpha_0\\vec{v}_0 + \\alpha_1\\vec{v}_1+\\cdots+\\alpha_{k-1}\\vec{v}_{k-1}+\\alpha_{k}\\vec{v}_k =\\vec{0}$$ the coefficient $\\alpha_k\\ne 0$.\n",
    "\n",
    "Your tasks are:\n",
    "<dl>\n",
    "    <dt>DepDegree(M,vv)</dt>\n",
    "    <dd>Given a matrix $M$ and a vector $vv$ return the value $k$ described above.</dd> \n",
    "    <dt>DepCoefs(M,vv)</dt>\n",
    "    <dd>Given a matrix $M$ and a vector $vv$ return the values $\\frac{\\alpha_0}{\\alpha_k},\\dots,\\frac{\\alpha_{k-1}}{\\alpha_k}$ in a list.</dd>\n",
    "</dl>\n",
    "<h2>Remarks</h2>\n",
    "When you program your routines your routines <em>must not</em> use Python's print function in <em>any</em> form. Your functions should simply return the above values."
   ]
  },
  {
   "cell_type": "code",
   "execution_count": 3,
   "metadata": {},
   "outputs": [],
   "source": [
    "def DepDegree(M,vv):\n",
    "    return 0\n",
    "\n",
    "def DepCoefs(M,vv):\n",
    "    return []\n"
   ]
  },
  {
   "cell_type": "markdown",
   "metadata": {},
   "source": [
    "<h2>Finding eigenvalue and associated eigenspace</h2>\n",
    "Following the previous homework you need to implement the following tasks:\n",
    "<dl>\n",
    "    <dt><code>MatrixDeterminant(M)</code></dt>\n",
    "    <dd>Given a square matrix $M$ return the determinant of $M$</dd>\n",
    "    <dt><code>EigenValue(M)</code></dt>\n",
    "    <dd>Given a matrix $M$ compute one eigenvalue for the matrix $M$.</dd> \n",
    "    <dt><code>TestValue(M,lmbd)</code></dt>\n",
    "    <dd>Return True if <code>lmbd</code> is an eigenvalue for $M$ and False otherwise</dd>  \n",
    "    <dt><code>EigenSpace(M,lmbd)</code></dt>\n",
    "    <dd>Given a matrix $M$ and a value <code>lmbd</code> return a list of basis vectors for the eigenspace associated with <code>lmbd</code>.</dd>\n",
    "</dl>"
   ]
  },
  {
   "cell_type": "code",
   "execution_count": 2,
   "metadata": {},
   "outputs": [],
   "source": [
    "def MatrixDeterminant(M):\n",
    "    return 0\n",
    "def EigenValue(M):\n",
    "    return 0\n",
    "def TestValue(M,lmbd):\n",
    "    return False\n",
    "def EigenSpace(M,lbmd):\n",
    "    return []"
   ]
  }
 ],
 "metadata": {
  "kernelspec": {
   "display_name": "Python 3",
   "language": "python",
   "name": "python3"
  },
  "language_info": {
   "codemirror_mode": {
    "name": "ipython",
    "version": 3
   },
   "file_extension": ".py",
   "mimetype": "text/x-python",
   "name": "python",
   "nbconvert_exporter": "python",
   "pygments_lexer": "ipython3",
   "version": "3.8.5"
  }
 },
 "nbformat": 4,
 "nbformat_minor": 4
}
