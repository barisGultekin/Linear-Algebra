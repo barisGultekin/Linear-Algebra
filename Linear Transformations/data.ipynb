{
 "cells": [
  {
   "cell_type": "markdown",
   "metadata": {},
   "source": [
    "<h1>System of Linear Equations Routines</h1>"
   ]
  },
  {
   "cell_type": "code",
   "execution_count": 1,
   "metadata": {
    "jupyter": {
     "source_hidden": true
    }
   },
   "outputs": [
    {
     "ename": "NameError",
     "evalue": "name 'QQ' is not defined",
     "output_type": "error",
     "traceback": [
      "\u001b[0;31m---------------------------------------------------------------------------\u001b[0m",
      "\u001b[0;31mNameError\u001b[0m                                 Traceback (most recent call last)",
      "\u001b[0;32m<ipython-input-1-38a5effc431b>\u001b[0m in \u001b[0;36m<module>\u001b[0;34m\u001b[0m\n\u001b[1;32m      2\u001b[0m \u001b[0;31m# both matrices and vectors. Details aside it will make output numbers look nice if you set\u001b[0m\u001b[0;34m\u001b[0m\u001b[0;34m\u001b[0m\u001b[0;34m\u001b[0m\u001b[0m\n\u001b[1;32m      3\u001b[0m \u001b[0;31m# KK equal QQ. Other possible options are RR, CC, QQ, QQbar; here QQbar is another nice option\u001b[0m\u001b[0;34m\u001b[0m\u001b[0;34m\u001b[0m\u001b[0;34m\u001b[0m\u001b[0m\n\u001b[0;32m----> 4\u001b[0;31m \u001b[0mKK\u001b[0m \u001b[0;34m=\u001b[0m \u001b[0mQQ\u001b[0m\u001b[0;34m\u001b[0m\u001b[0;34m\u001b[0m\u001b[0m\n\u001b[0m\u001b[1;32m      5\u001b[0m \u001b[0;34m\u001b[0m\u001b[0m\n\u001b[1;32m      6\u001b[0m \u001b[0;32mdef\u001b[0m \u001b[0mGetEch\u001b[0m\u001b[0;34m(\u001b[0m\u001b[0mM265Matrix\u001b[0m\u001b[0;34m)\u001b[0m\u001b[0;34m:\u001b[0m\u001b[0;34m\u001b[0m\u001b[0;34m\u001b[0m\u001b[0m\n",
      "\u001b[0;31mNameError\u001b[0m: name 'QQ' is not defined"
     ]
    }
   ],
   "source": [
    "# Let us first define the numbers we will work with. Note the use of KK when defining\n",
    "# both matrices and vectors. Details aside it will make output numbers look nice if you set\n",
    "# KK equal QQ. Other possible options are RR, CC, QQ, QQbar; here QQbar is another nice option\n",
    "KK = QQ\n",
    "\n",
    "def GetEch(M265Matrix):\n",
    "    # given a matrix defined as above the function returns the echelon form of the matrix\n",
    "    return M265Matrix.echelon_form()\n",
    "\n",
    "def HomSol(M265Matrix):\n",
    "    # obtain the homogeneous solution set of SLE with matrix M265Matrix\n",
    "    return M265Matrix.right_kernel_matrix()\n",
    "\n",
    "def ParSol(M265Matrix,M265Vector):\n",
    "    # obtain a particular solutino to SLE with matrix M265Matrix and vector of constant M265Vector\n",
    "    (rw,cl)=M265Matrix.dimensions()\n",
    "    if(rw!=len(M265Vector)):\n",
    "        print(\"dimension error\")\n",
    "    try:\n",
    "        return M265Matrix.solve_right(M265Vector)\n",
    "    except ValueError:\n",
    "        #if ValueError occurs there is no solution but instead of raising the error we return\n",
    "        # the empty set\n",
    "        return vector(KK,[])\n",
    "    return False\n",
    "    \n",
    "def GetERO(M265Matrix,debug=False):\n",
    "    # get one list of elemetary operations that reduce a matrix to Reduced Echelon Form\n",
    "    resEliminations = []\n",
    "    [Rw,Cl]=M265Matrix.dimensions()\n",
    "    M265copy = Matrix(KK,M265Matrix)\n",
    "    if (debug):\n",
    "        print(M265copy)\n",
    "    rw = 0\n",
    "    cl = 0\n",
    "    for c in range(Cl):\n",
    "        hasPivot = False\n",
    "        # first we check if the column under question has a pivot\n",
    "        for r in range(rw,Rw):\n",
    "            if (M265copy[r][cl]!=0):\n",
    "                hasPivot = True\n",
    "                if (r!=rw):\n",
    "                    EO = identity_matrix(KK,Rw)\n",
    "                    EO.swap_rows(rw,r)\n",
    "                    resEliminations.append(EO)\n",
    "                    M265copy.swap_rows(rw,r)\n",
    "                    if (debug):\n",
    "                        print(\"\\n\")\n",
    "                        print(\"Swap row \",rw,\"with row\", r)\n",
    "                        print(M265copy)\n",
    "                break # if there is a pivot \n",
    "        if (hasPivot):\n",
    "            # if there is a pivot first scale it to one if the pivot is not one\n",
    "            if (M265copy[rw][cl]!= KK(1)):\n",
    "                EO=identity_matrix(KK,Rw)\n",
    "                EO.rescale_row(rw,KK(1)/M265copy[rw][cl])\n",
    "                resEliminations.append(EO)\n",
    "                M265copy=resEliminations[-1]*M265copy\n",
    "                if (debug):\n",
    "                    print(\"\\n\")\n",
    "                    print(\"Scale row\", rw)\n",
    "                    print(M265copy)\n",
    "\n",
    "            # make the respective entries in the column zero except for the row that contains the pivot (r==rw)\n",
    "            # further if a row has already entry zero at that column skip that row as the resulting scaling\n",
    "            # is simply the identity matrix (M265copy[r][cl]==0)\n",
    "            for r in range(Rw):\n",
    "                if ((r==rw) or (M265copy[r][cl]==0)):\n",
    "                    continue\n",
    "                EO = identity_matrix(KK,Rw)\n",
    "                EO.add_multiple_of_row(r,rw,-M265copy[r][cl])\n",
    "                resEliminations.append(EO)\n",
    "                #M265copy = M265copy.add_multiple_of_row(r,rw,-M265copy[r][cl])\n",
    "                M265copy=resEliminations[-1]*M265copy\n",
    "                if(debug):\n",
    "                    print(\"\\n\")\n",
    "                    print(\"M265copy multiple of row\",rw,\"to row\",r )\n",
    "                    print(M265copy)\n",
    "            rw += 1 # if there was a pivot in this column for the remaining rows up we search for pivots\n",
    "            # only on rows that are below it\n",
    "        cl += 1\n",
    "    return resEliminations"
   ]
  },
  {
   "cell_type": "markdown",
   "metadata": {},
   "source": [
    "<h2>Some nice matrices</h2>"
   ]
  },
  {
   "cell_type": "markdown",
   "metadata": {},
   "source": [
    "<h3>$3\\times 3$ matrices</h3>"
   ]
  },
  {
   "cell_type": "code",
   "execution_count": 4,
   "metadata": {},
   "outputs": [
    {
     "data": {
      "text/plain": [
       "(\n",
       "            [-3 -2 -8  1]\n",
       "[ 5 -8 -4]  [-2  0 -5  1]\n",
       "[ 3 -5 -2]  [ 0 -1 -1  0]\n",
       "[-4  7  3], [ 0 -5  0 -2]\n",
       ")"
      ]
     },
     "execution_count": 4,
     "metadata": {},
     "output_type": "execute_result"
    }
   ],
   "source": [
    "M3 = Matrix(KK,[[5,-8,-4],[3,-5,-2],[-4,7,3]])\n",
    "M4 = Matrix(KK, [\\\n",
    "                 [-3, -2, -8,  1],\\\n",
    "                 [-2,  0, -5,  1],\\\n",
    "                 [ 0, -1, -1,  0],\\\n",
    "                 [ 0, -5,  0, -2]])\n",
    "M3, M4"
   ]
  },
  {
   "cell_type": "markdown",
   "metadata": {},
   "source": [
    "<h1>Homework</h1>"
   ]
  },
  {
   "cell_type": "markdown",
   "metadata": {},
   "source": [
    "<h2>Restrictions</h2>\n",
    "<p>You may run the sage kernel or any other kernel of your choice. However, beyond the Standard Routines provided at the top of this notebook no other function calls are allowed from the sage (or any other library).</p>\n",
    "<p>If you cannot run sage, please update the above routines with the solutions I've provided for the first homework and use those instead. You are welcome to contact me for further information if that is the case.</p>"
   ]
  },
  {
   "cell_type": "markdown",
   "metadata": {},
   "source": [
    "<h2>Linear transformations</h2>\n",
    "Given two matrices $MA$ and $MB$ each of their rows is considered as a vector. Assume MA and MB have the same number of rows. Your implementation tasks are:\n",
    "<dl>\n",
    "    <dt>isLinearlyExtendable(MA,MB)</dt>\n",
    "    <dd>The function isLinearlyExtendable returns True if it is possible to linearly extend the map $\\phi(MA[i]) = MB[i]$ to the span of the rows of $MA$; else it returns False.</dd> \n",
    "    <dt>matrixForm(MA,MB)</dt>\n",
    "    <dd>Assume isLinearlyExtendable(MA,MB) returns True. The function matrixForm(MA,MB) should return the matrix form of the map $\\phi(MA[i]) = MB[i]$.</dd>\n",
    "    <dt>isInjection(MA,MB)</dt>\n",
    "    <dd>Assume isLinearlyExtendable(MA,MB) returns True. The function isBijection(MA,MB) should True if the map $\\phi(MA[i]) = MB[i]$ is one to one and False otherwise.</dd>\n",
    "    <dt>nullSpace(MA,MB)</dt>\n",
    "    <dd>Assume isLinearlyExtendable(MA,MB) returns True. The function nullSpace(MA,MB) should return a basis for the kernel of the map $\\phi(MA[i]) = MB[i]$ in the form of a list where each row is a basis vector; if function is one-to-one it should return an empty list.</dd>\n",
    "</dl>"
   ]
  },
  {
   "cell_type": "code",
   "execution_count": 119,
   "metadata": {},
   "outputs": [],
   "source": [
    "def isLinearlyExtendable(MA,MB):\n",
    "    return pass\n",
    "\n",
    "def matrixForm(MA,MB):\n",
    "    return pass\n",
    "\n",
    "def isInjection(MA,MB):\n",
    "    return pass\n",
    "\n",
    "def nullSpace(MA,MB):\n",
    "    return pass"
   ]
  }
 ],
 "metadata": {
  "kernelspec": {
   "display_name": "Python 3",
   "language": "python",
   "name": "python3"
  },
  "language_info": {
   "codemirror_mode": {
    "name": "ipython",
    "version": 3
   },
   "file_extension": ".py",
   "mimetype": "text/x-python",
   "name": "python",
   "nbconvert_exporter": "python",
   "pygments_lexer": "ipython3",
   "version": "3.8.5"
  }
 },
 "nbformat": 4,
 "nbformat_minor": 4
}
