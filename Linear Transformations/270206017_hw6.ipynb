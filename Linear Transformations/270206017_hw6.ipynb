{
 "cells": [
  {
   "cell_type": "markdown",
   "metadata": {},
   "source": [
    "<h1>Math 265 Linear Algebra Homework 6</h1>\n",
    "<h3>Linear Extensions</h3>\n",
    "\n",
    "----"
   ]
  },
  {
   "cell_type": "markdown",
   "metadata": {},
   "source": [
    "<h2>Standard Routines (non-Sage)</h2>"
   ]
  },
  {
   "cell_type": "code",
   "execution_count": 7,
   "metadata": {},
   "outputs": [],
   "source": [
    "def MatrixDim(A):\n",
    "    M265rows = len(A)\n",
    "    if (M265rows <= 0):\n",
    "        return[-1,-1]\n",
    "    if M265rows == 1:\n",
    "        return [1,M265cols]\n",
    "    else:\n",
    "        M265cols = len(A[0])\n",
    "    for i in range(M265rows):\n",
    "        if (len(A[i]) != M265cols):\n",
    "            return [-1,-1]\n",
    "    return [M265rows, M265cols]  \n",
    "\n",
    "def nPrint(A):\n",
    "    for i in range(len(A)):\n",
    "        print(A[i])\n",
    "    return True\n",
    "\n",
    "def MatrixMult(A,B):\n",
    "    [rowsA,colsA] = MatrixDim(A)\n",
    "    [rowsB,colsB] = MatrixDim(B)\n",
    "    if ((colsA != rowsB) and (colsA > 0)):\n",
    "        return []\n",
    "        \n",
    "    M265Result = [[0 for k in range(colsB)] for r in range(rowsA)]\n",
    "    for rw in range(rowsA):\n",
    "        for cl in range(colsB):\n",
    "            tmp =0\n",
    "            for k in range(colsA):\n",
    "                tmp = tmp + A[rw][k]*B[k][cl]\n",
    "            M265Result[rw][cl]=tmp\n",
    "    return M265Result"
   ]
  },
  {
   "cell_type": "code",
   "execution_count": 8,
   "metadata": {
    "jupyter": {
     "source_hidden": true
    }
   },
   "outputs": [],
   "source": [
    "def M265isEchelon(A):\n",
    "    M265_isEcheclon = False\n",
    "    [rowsA,colsA]=MatrixDim(A)\n",
    "    leading = [colsA+1+rw for rw in range(rowsA)]\n",
    "    for rw in range(rowsA):\n",
    "        for cl in range(colsA):\n",
    "            if (A[rw][cl] != 0):\n",
    "                leading[rw] = cl\n",
    "                break\n",
    "    M265_isEchelon = True\n",
    "    for rw in range(rowsA-1):\n",
    "        if (leading[rw] >= leading[rw+1]):\n",
    "            M265_isEchelon = False\n",
    "    return M265_isEchelon\n",
    "\n",
    "def M265isREch(A):\n",
    "    [rowsA,colsA] = MatrixDim(A)\n",
    "    leading = [colsA+1+rw for rw in range(rowsA)]\n",
    "    posLeading = []\n",
    "    for rw in range(rowsA):\n",
    "        for cl in range(colsA):\n",
    "            if (A[rw][cl] != 0):\n",
    "                leading[rw] = cl\n",
    "                if (A[rw][cl]!=1):\n",
    "                    return [-1]\n",
    "                posLeading.append(cl)\n",
    "                break\n",
    "    M265_isEchelon = True\n",
    "    for rw in range(rowsA-1):\n",
    "        if (leading[rw] >= leading[rw+1]):\n",
    "            M265_isEchelon = False\n",
    "    if (not M265_isEchelon):\n",
    "        return [-2]\n",
    "    for i in range(len(posLeading)):\n",
    "        for rw in range(rowsA):\n",
    "            if ((rw != i) and (A[rw][posLeading[i]]!=0)):\n",
    "                return [-3]\n",
    "    return posLeading\n",
    "    \n",
    "    \n",
    "def M265BackSubs(A,b):\n",
    "    [rowsA,colsA] = MatrixDim(A)\n",
    "    if ((rowsA < 0) or (colsA<0)):\n",
    "        return []\n",
    "    if (len(b)!=rowsA):\n",
    "        return []\n",
    "    LPos = M265isREch(A)\n",
    "    M265_partSol = [0 for i in range(colsA)]\n",
    "    for i in range(len(LPos)):\n",
    "        M265_partSol[LPos[i]] = b[i]\n",
    "    if (len(LPos)<len(b)):\n",
    "        for i in range(len(LPos),len(b)):\n",
    "            if (b[i]>1e-10):\n",
    "                M265_partSol=[]\n",
    "        \n",
    "    M265_homgSol = [0 for i in range(len(A[0]))]\n",
    "    \n",
    "    Free=[0 for i in range(colsA - len(LPos))]\n",
    "    freePos =0\n",
    "    basicPos =0\n",
    "    for i in range(colsA):\n",
    "        if ((basicPos >= len(LPos)) or (i<LPos[basicPos]))  :\n",
    "            Free[freePos] = i\n",
    "            freePos+=1\n",
    "        else:\n",
    "            basicPos+=1\n",
    "\n",
    "    M265_homgSol = [[0 for c in range(colsA)] for i in range(len(Free))]\n",
    "\n",
    "    for c in range(len(Free)):\n",
    "        M265_homgSol[c][Free[c]]=1\n",
    "        for l in range(len(LPos)):\n",
    "            M265_homgSol[c][LPos[l]]=-A[l][Free[c]]\n",
    "            \n",
    "    return [M265_partSol,M265_homgSol]"
   ]
  },
  {
   "cell_type": "code",
   "execution_count": 9,
   "metadata": {
    "jupyter": {
     "source_hidden": true
    }
   },
   "outputs": [],
   "source": [
    "def M265Swap(rowi,rowj,order):\n",
    "    if ((rowi >= order) or (rowj>=order)):\n",
    "        return []\n",
    "    res = [[0 for i in range(order)] for j in range(order)]\n",
    "    for i in range(order):\n",
    "        res[i][i]=1\n",
    "    res[rowi][rowj]=1\n",
    "    res[rowj][rowi]=1\n",
    "    res[rowi][rowi]=0\n",
    "    res[rowj][rowj]=0\n",
    "    return res\n",
    "\n",
    "def M265cM(row,const,order):\n",
    "    if (row >= order):\n",
    "        return []\n",
    "    res = [[0 for i in range(order)] for j in range(order)]\n",
    "    for i in range(order):\n",
    "        res[i][i]=1\n",
    "    res[row][row]=const\n",
    "    return res\n",
    "\n",
    "def M265LC(rowi,rowj,const,order):\n",
    "    if ((rowi >= order) or (rowj>=order) or (rowi==rowj)):\n",
    "        return []\n",
    "    res = [[0 for i in range(order)] for j in range(order)]\n",
    "    for i in range(order):\n",
    "        res[i][i]=1\n",
    "    res[rowi][rowj]=const\n",
    "    return res\n",
    "\n",
    "def valueReturn(input):\n",
    "    value = input*1\n",
    "    return value\n",
    "\n",
    "def M265GaussianElimination(A,debug=False):\n",
    "    resEliminations = []\n",
    "    [rowsA,colsA]=MatrixDim(A)\n",
    "    order=rowsA\n",
    "    EP = [[0 for i in range(rowsA)] for j in range(rowsA)]\n",
    "    if (debug):\n",
    "        nPrint(A)\n",
    "    rw = 0\n",
    "    cl = 0\n",
    "    for c in range(colsA):\n",
    "        hasPivot = False\n",
    "        for r in range(rw,rowsA):\n",
    "            if (A[r][cl]!=0):\n",
    "                hasPivot = True\n",
    "                if (r!=rw):\n",
    "                    EP =M265Swap(rw,r,order)\n",
    "                    A = MatrixMult(EP,A)\n",
    "                    resEliminations.append(EP)\n",
    "                    if (debug):\n",
    "                        print(\"\\n\")\n",
    "                        print(\"Swap row \",rw,\"with row\", r)\n",
    "                        nPrint(A)\n",
    "                break\n",
    "        if (hasPivot):\n",
    "            if (A[rw][cl]!=1):\n",
    "                EP = M265cM(rw,1.0/A[rw][cl],order)       \n",
    "                resEliminations.append(EP)\n",
    "                A = MatrixMult(EP,A)\n",
    "                if (debug):\n",
    "                    print(\"\\n\")\n",
    "                    print(\"Scale row\", rw)\n",
    "                    nPrint(A)\n",
    "\n",
    "            for r in range(rowsA):\n",
    "                if ((r==rw) or (A[r][cl]==0)):\n",
    "                    continue\n",
    "                EP = M265LC(r,rw,-1.0*A[r][cl],order)\n",
    "                resEliminations.append(EP)\n",
    "                A = MatrixMult(EP,A)\n",
    "                if(debug):\n",
    "                    print(\"\\n\")\n",
    "                    print(\"Add multiple of row\",rw,\"to row\",r )\n",
    "                    nPrint(A)\n",
    "            rw += 1\n",
    "        cl += 1\n",
    "    return resEliminations"
   ]
  },
  {
   "cell_type": "code",
   "execution_count": 10,
   "metadata": {},
   "outputs": [],
   "source": [
    "def transpose(inputMatrix):\n",
    "    outputMatrix = [[0 for _ in range(len(inputMatrix))] for _ in range(len(inputMatrix[0]))]\n",
    "    for i in range(len(outputMatrix)):\n",
    "        for j in range(len(outputMatrix[0])):\n",
    "            outputMatrix[i][j] = inputMatrix[j][i]\n",
    "    return outputMatrix\n",
    "\n",
    "def solve(M,c):\n",
    "    x = [c]\n",
    "    xT = transpose(x)\n",
    "    for elementaryMatrix in M265GaussianElimination(M):\n",
    "        M = MatrixMult(elementaryMatrix,M)\n",
    "        xT = MatrixMult(elementaryMatrix,xT)\n",
    "    xTT = transpose(xT)\n",
    "    return M265BackSubs(M,xTT[0])"
   ]
  },
  {
   "cell_type": "markdown",
   "metadata": {},
   "source": [
    "---\n",
    "<h1>Homework</h1>"
   ]
  },
  {
   "cell_type": "markdown",
   "metadata": {},
   "source": [
    "<h2>Restrictions</h2>\n",
    "<p>You may run the sage kernel or any other kernel of your choice. However, beyond the Standard Routines provided at the top of this notebook no other function calls are allowed from the sage (or any other library).</p>\n",
    "<p>If you cannot run sage, please update the above routines with the solutions I've provided for the first homework and use those instead. You are welcome to contact me for further information if that is the case.</p>"
   ]
  },
  {
   "cell_type": "markdown",
   "metadata": {},
   "source": [
    "<h2>Linear transformations</h2>\n",
    "Given two matrices $MA$ and $MB$ each of their rows is considered as a vector. Assume MA and MB have the same number of rows. Your implementation tasks are:\n",
    "<dl>\n",
    "    <dt>isLinearlyExtendable(MA,MB)</dt>\n",
    "    <dd>The function isLinearlyExtendable returns True if it is possible to linearly extend the map $\\phi(MA[i]) = MB[i]$ to the span of the rows of $MA$; else it returns False.</dd> \n",
    "    <dt>matrixForm(MA,MB)</dt>\n",
    "    <dd>Assume isLinearlyExtendable(MA,MB) returns True. The function matrixForm(MA,MB) should return the matrix form of the map $\\phi(MA[i]) = MB[i]$.</dd>\n",
    "    <dt>isInjection(MA,MB)</dt>\n",
    "    <dd>Assume isLinearlyExtendable(MA,MB) returns True. The function isBijection(MA,MB) should True if the map $\\phi(MA[i]) = MB[i]$ is one to one and False otherwise.</dd>\n",
    "    <dt>nullSpace(MA,MB)</dt>\n",
    "    <dd>Assume isLinearlyExtendable(MA,MB) returns True. The function nullSpace(MA,MB) should return a basis for the kernel of the map $\\phi(MA[i]) = MB[i]$ in the form of a list where each row is a basis vector; if function is one-to-one it should return an empty list.</dd>\n",
    "</dl>"
   ]
  },
  {
   "cell_type": "code",
   "execution_count": 11,
   "metadata": {},
   "outputs": [],
   "source": [
    "def isLinearlyExtendable(MA,MB):\n",
    "    sol1 = solve(transpose(MA),[0 for _ in range(len(MA[0]))])\n",
    "    sol2 = solve(transpose(MB),[0 for _ in range(len(MB[0]))])\n",
    "    \n",
    "    [rows1,cols1] = MatrixDim(sol1)\n",
    "    [rows2,cols2] = MatrixDim(sol2)\n",
    "    \n",
    "    if rows1 == rows2:\n",
    "        if sol1 == sol2:\n",
    "            return True, 1\n",
    "        else:\n",
    "            return False, 1\n",
    "    elif rows1 < rows2:\n",
    "        for i in range(rows1):\n",
    "            if sol1[i] not in sol2:\n",
    "                return False, 2\n",
    "        return True, 2\n",
    "    else:\n",
    "        return False, 3\n",
    "        \n",
    "\n",
    "def matrixForm(MA,MB):\n",
    "    if isLinearlyExtendable(MA,MB):\n",
    "        return transpose(MB)\n",
    "    else:\n",
    "        return None\n",
    "\n",
    "def isInjection(MA,MB):\n",
    "    if isLinearlyExtendable(MA,MB):\n",
    "        if solve(matrixForm(MA,MB),[0 for _ in range(len(MB[0]))]):\n",
    "            return False\n",
    "        else:\n",
    "            return True\n",
    "    else:\n",
    "        return None\n",
    "\n",
    "def nullSpace(MA,MB):\n",
    "    if isLinearlyExtendable(MA,MB):\n",
    "        if isInjection(MA,MB):\n",
    "            return []\n",
    "        else:\n",
    "            pass \n",
    "    else:\n",
    "        return None"
   ]
  },
  {
   "cell_type": "markdown",
   "metadata": {},
   "source": [
    "---\n",
    "<h2>Stock Matrices</h2>"
   ]
  },
  {
   "cell_type": "code",
   "execution_count": 12,
   "metadata": {},
   "outputs": [],
   "source": [
    "#ID: 146\n",
    "#M = Matrix(QQ,[[8,9,17,4],[6,3,6,8],[2,21,17,18],[0,0,0,0],[2,21,17,18]])\n",
    "#M = Matrix(QQ,[[6,8,25,0,0,39],[2,2,10,3,2,14],[0,8,15,-8,4,23],[0,0,1,0,2,1],[0,8,15,-8,4,23]])\n",
    "\n",
    "M1 = [[8,9,17,4],\n",
    "      [6,3,6,8],\n",
    "      [2,21,17,18],\n",
    "      [0,0,0,0],\n",
    "      [2,21,17,18]]\n",
    "\n",
    "M2 = [[6,8,25,0,0,39],\n",
    "      [2,2,10,3,2,14],\n",
    "      [0,8,15,-8,4,23],\n",
    "      [0,0,1,0,2,1],\n",
    "      [0,8,15,-8,4,23]]\n",
    "\n",
    "#=================================\n",
    "\n",
    "M3 = [[5,-8,-4],\n",
    "      [3,-5,-2],\n",
    "      [-4,7,3]]\n",
    "\n",
    "M4 = [[-3,-2,-8,1],\n",
    "      [-2,0,-5,1],\n",
    "      [0,-1,-1,0],\n",
    "      [0,-5,0,-2]]\n",
    "\n",
    "#=================================\n",
    "\n",
    "M5 = [[1,0],[0,0]]\n",
    "\n",
    "M6 = [[0,0,0],[0,0,0]]"
   ]
  },
  {
   "cell_type": "markdown",
   "metadata": {},
   "source": [
    "---\n",
    "\n",
    "<h2>Test Area</h2>"
   ]
  },
  {
   "cell_type": "code",
   "execution_count": 13,
   "metadata": {},
   "outputs": [],
   "source": [
    "MA = M5\n",
    "MB = M6"
   ]
  },
  {
   "cell_type": "code",
   "execution_count": 14,
   "metadata": {},
   "outputs": [
    {
     "data": {
      "text/plain": [
       "(True, 2)"
      ]
     },
     "execution_count": 14,
     "metadata": {},
     "output_type": "execute_result"
    }
   ],
   "source": [
    "isLinearlyExtendable(MA,MB)"
   ]
  },
  {
   "cell_type": "code",
   "execution_count": 15,
   "metadata": {},
   "outputs": [
    {
     "data": {
      "text/plain": [
       "[[0, 0], [0, 0], [0, 0]]"
      ]
     },
     "execution_count": 15,
     "metadata": {},
     "output_type": "execute_result"
    }
   ],
   "source": [
    "matrixForm(MA,MB)"
   ]
  },
  {
   "cell_type": "code",
   "execution_count": 16,
   "metadata": {},
   "outputs": [
    {
     "data": {
      "text/plain": [
       "False"
      ]
     },
     "execution_count": 16,
     "metadata": {},
     "output_type": "execute_result"
    }
   ],
   "source": [
    "isInjection(MA,MB)"
   ]
  },
  {
   "cell_type": "code",
   "execution_count": 17,
   "metadata": {},
   "outputs": [],
   "source": [
    "nullSpace(MA,MB)"
   ]
  },
  {
   "cell_type": "markdown",
   "metadata": {},
   "source": [
    "---\n",
    ".\n",
    ".\n",
    ".\n",
    "<h1>In-Class Task 19.08.2020</h1>"
   ]
  },
  {
   "cell_type": "code",
   "execution_count": 18,
   "metadata": {},
   "outputs": [],
   "source": [
    "T = [[1,-8,-2],\n",
    "     [1,-5,0],\n",
    "     [0,-1,-1]]\n",
    "\n",
    "M3 = [[5,-8,-4],\n",
    "      [3,-5,-2],\n",
    "      [-4,7,3]]"
   ]
  },
  {
   "cell_type": "markdown",
   "metadata": {},
   "source": [
    "<h3>T to M3</h3>"
   ]
  },
  {
   "cell_type": "code",
   "execution_count": 19,
   "metadata": {},
   "outputs": [
    {
     "name": "stdout",
     "output_type": "stream",
     "text": [
      "[[-20.999999999999996, 25.999999999999996, 45.99999999999999], []]\n",
      "[[-11.999999999999996, 14.999999999999996, 25.999999999999993], []]\n",
      "[[15.999999999999993, -19.999999999999993, -34.999999999999986], []]\n"
     ]
    }
   ],
   "source": [
    "for i in range(len(M3)):\n",
    "    print(solve(transpose(T), M3[i]))"
   ]
  },
  {
   "cell_type": "markdown",
   "metadata": {},
   "source": [
    "<h3>M3 to T</h3>"
   ]
  },
  {
   "cell_type": "code",
   "execution_count": 20,
   "metadata": {},
   "outputs": [
    {
     "name": "stdout",
     "output_type": "stream",
     "text": [
      "[[-4.999999999999998, -9.999999999999993, -13.999999999999995], []]\n",
      "[[-4.000000000000002, -1.0000000000000036, -6.0000000000000036], []]\n",
      "[[8.881784197001252e-16, -3.9999999999999947, -2.9999999999999956], []]\n"
     ]
    }
   ],
   "source": [
    "for i in range(len(T)):\n",
    "    print(solve(transpose(M3), T[i]))"
   ]
  },
  {
   "cell_type": "code",
   "execution_count": null,
   "metadata": {},
   "outputs": [],
   "source": []
  }
 ],
 "metadata": {
  "kernelspec": {
   "display_name": "Python 3",
   "language": "python",
   "name": "python3"
  },
  "language_info": {
   "codemirror_mode": {
    "name": "ipython",
    "version": 3
   },
   "file_extension": ".py",
   "mimetype": "text/x-python",
   "name": "python",
   "nbconvert_exporter": "python",
   "pygments_lexer": "ipython3",
   "version": "3.8.5"
  }
 },
 "nbformat": 4,
 "nbformat_minor": 4
}
